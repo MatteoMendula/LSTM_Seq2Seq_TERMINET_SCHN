{
 "cells": [
  {
   "cell_type": "markdown",
   "id": "af86ee35",
   "metadata": {},
   "source": [
    "# Preliminary analysis on TERMINET SCHN data"
   ]
  },
  {
   "cell_type": "code",
   "execution_count": 2,
   "id": "bdcedb9c",
   "metadata": {},
   "outputs": [],
   "source": [
    "import pandas as pd\n",
    "from scipy.stats import pearsonr"
   ]
  },
  {
   "cell_type": "code",
   "execution_count": 3,
   "id": "fbb11f16",
   "metadata": {},
   "outputs": [],
   "source": [
    "df = pd.read_csv(\"./SOE_28-03-2022.xlsx - Sheet2.csv\")"
   ]
  },
  {
   "cell_type": "code",
   "execution_count": 5,
   "id": "6ca5b36a",
   "metadata": {},
   "outputs": [
    {
     "data": {
      "text/html": [
       "<div>\n",
       "<style scoped>\n",
       "    .dataframe tbody tr th:only-of-type {\n",
       "        vertical-align: middle;\n",
       "    }\n",
       "\n",
       "    .dataframe tbody tr th {\n",
       "        vertical-align: top;\n",
       "    }\n",
       "\n",
       "    .dataframe thead th {\n",
       "        text-align: right;\n",
       "    }\n",
       "</style>\n",
       "<table border=\"1\" class=\"dataframe\">\n",
       "  <thead>\n",
       "    <tr style=\"text-align: right;\">\n",
       "      <th></th>\n",
       "      <th>logID</th>\n",
       "      <th>DATE</th>\n",
       "      <th>LOCAL</th>\n",
       "      <th>NAME</th>\n",
       "      <th>DESC</th>\n",
       "      <th>VAL</th>\n",
       "      <th>QF</th>\n",
       "      <th>SOURCE</th>\n",
       "    </tr>\n",
       "  </thead>\n",
       "  <tbody>\n",
       "    <tr>\n",
       "      <th>0</th>\n",
       "      <td>13805</td>\n",
       "      <td>3/28/22 12:41</td>\n",
       "      <td>N</td>\n",
       "      <td>CPU_USE</td>\n",
       "      <td>NaN</td>\n",
       "      <td>77.86260</td>\n",
       "      <td>0x00001000</td>\n",
       "      <td>PLC</td>\n",
       "    </tr>\n",
       "    <tr>\n",
       "      <th>1</th>\n",
       "      <td>13808</td>\n",
       "      <td>3/28/22 12:41</td>\n",
       "      <td>N</td>\n",
       "      <td>FAIL_CONF</td>\n",
       "      <td>NaN</td>\n",
       "      <td>0.00000</td>\n",
       "      <td>0x00001000</td>\n",
       "      <td>PLC</td>\n",
       "    </tr>\n",
       "    <tr>\n",
       "      <th>2</th>\n",
       "      <td>13809</td>\n",
       "      <td>3/28/22 12:41</td>\n",
       "      <td>N</td>\n",
       "      <td>FAIL_RTU</td>\n",
       "      <td>NaN</td>\n",
       "      <td>0.00000</td>\n",
       "      <td>0x00001000</td>\n",
       "      <td>PLC</td>\n",
       "    </tr>\n",
       "    <tr>\n",
       "      <th>3</th>\n",
       "      <td>13806</td>\n",
       "      <td>3/28/22 12:41</td>\n",
       "      <td>N</td>\n",
       "      <td>MEM_USE</td>\n",
       "      <td>NaN</td>\n",
       "      <td>62.66120</td>\n",
       "      <td>0x00001000</td>\n",
       "      <td>PLC</td>\n",
       "    </tr>\n",
       "    <tr>\n",
       "      <th>4</th>\n",
       "      <td>13804</td>\n",
       "      <td>3/28/22 12:41</td>\n",
       "      <td>N</td>\n",
       "      <td>PS1_V</td>\n",
       "      <td>NaN</td>\n",
       "      <td>5.38353</td>\n",
       "      <td>0x00001000</td>\n",
       "      <td>PLC</td>\n",
       "    </tr>\n",
       "    <tr>\n",
       "      <th>5</th>\n",
       "      <td>13810</td>\n",
       "      <td>3/28/22 12:41</td>\n",
       "      <td>N</td>\n",
       "      <td>RTU_HEALTH</td>\n",
       "      <td>NaN</td>\n",
       "      <td>3.00000</td>\n",
       "      <td>0x00001000</td>\n",
       "      <td>PLC</td>\n",
       "    </tr>\n",
       "    <tr>\n",
       "      <th>6</th>\n",
       "      <td>13807</td>\n",
       "      <td>3/28/22 12:41</td>\n",
       "      <td>N</td>\n",
       "      <td>TEMP</td>\n",
       "      <td>NaN</td>\n",
       "      <td>31.12500</td>\n",
       "      <td>0x00001000</td>\n",
       "      <td>PLC</td>\n",
       "    </tr>\n",
       "    <tr>\n",
       "      <th>7</th>\n",
       "      <td>13791</td>\n",
       "      <td>3/28/22 12:21</td>\n",
       "      <td>N</td>\n",
       "      <td>CPU_USE</td>\n",
       "      <td>NaN</td>\n",
       "      <td>76.67980</td>\n",
       "      <td>0x00001000</td>\n",
       "      <td>PLC</td>\n",
       "    </tr>\n",
       "    <tr>\n",
       "      <th>8</th>\n",
       "      <td>13798</td>\n",
       "      <td>3/28/22 12:21</td>\n",
       "      <td>N</td>\n",
       "      <td>CPU_USE</td>\n",
       "      <td>NaN</td>\n",
       "      <td>77.73820</td>\n",
       "      <td>0x00001000</td>\n",
       "      <td>PLC</td>\n",
       "    </tr>\n",
       "    <tr>\n",
       "      <th>9</th>\n",
       "      <td>13794</td>\n",
       "      <td>3/28/22 12:21</td>\n",
       "      <td>N</td>\n",
       "      <td>FAIL_CONF</td>\n",
       "      <td>NaN</td>\n",
       "      <td>0.00000</td>\n",
       "      <td>0x00001000</td>\n",
       "      <td>PLC</td>\n",
       "    </tr>\n",
       "    <tr>\n",
       "      <th>10</th>\n",
       "      <td>13801</td>\n",
       "      <td>3/28/22 12:21</td>\n",
       "      <td>N</td>\n",
       "      <td>FAIL_CONF</td>\n",
       "      <td>NaN</td>\n",
       "      <td>0.00000</td>\n",
       "      <td>0x00001000</td>\n",
       "      <td>PLC</td>\n",
       "    </tr>\n",
       "    <tr>\n",
       "      <th>11</th>\n",
       "      <td>13795</td>\n",
       "      <td>3/28/22 12:21</td>\n",
       "      <td>N</td>\n",
       "      <td>FAIL_RTU</td>\n",
       "      <td>NaN</td>\n",
       "      <td>0.00000</td>\n",
       "      <td>0x00001000</td>\n",
       "      <td>PLC</td>\n",
       "    </tr>\n",
       "    <tr>\n",
       "      <th>12</th>\n",
       "      <td>13802</td>\n",
       "      <td>3/28/22 12:21</td>\n",
       "      <td>N</td>\n",
       "      <td>FAIL_RTU</td>\n",
       "      <td>NaN</td>\n",
       "      <td>0.00000</td>\n",
       "      <td>0x00001000</td>\n",
       "      <td>PLC</td>\n",
       "    </tr>\n",
       "    <tr>\n",
       "      <th>13</th>\n",
       "      <td>13792</td>\n",
       "      <td>3/28/22 12:21</td>\n",
       "      <td>N</td>\n",
       "      <td>MEM_USE</td>\n",
       "      <td>NaN</td>\n",
       "      <td>62.68540</td>\n",
       "      <td>0x00001000</td>\n",
       "      <td>PLC</td>\n",
       "    </tr>\n",
       "    <tr>\n",
       "      <th>14</th>\n",
       "      <td>13799</td>\n",
       "      <td>3/28/22 12:21</td>\n",
       "      <td>N</td>\n",
       "      <td>MEM_USE</td>\n",
       "      <td>NaN</td>\n",
       "      <td>62.68480</td>\n",
       "      <td>0x00001000</td>\n",
       "      <td>PLC</td>\n",
       "    </tr>\n",
       "    <tr>\n",
       "      <th>15</th>\n",
       "      <td>13790</td>\n",
       "      <td>3/28/22 12:21</td>\n",
       "      <td>N</td>\n",
       "      <td>PS1_V</td>\n",
       "      <td>NaN</td>\n",
       "      <td>5.38353</td>\n",
       "      <td>0x00001000</td>\n",
       "      <td>PLC</td>\n",
       "    </tr>\n",
       "    <tr>\n",
       "      <th>16</th>\n",
       "      <td>13797</td>\n",
       "      <td>3/28/22 12:21</td>\n",
       "      <td>N</td>\n",
       "      <td>PS1_V</td>\n",
       "      <td>NaN</td>\n",
       "      <td>5.38453</td>\n",
       "      <td>0x00001000</td>\n",
       "      <td>PLC</td>\n",
       "    </tr>\n",
       "    <tr>\n",
       "      <th>17</th>\n",
       "      <td>13796</td>\n",
       "      <td>3/28/22 12:21</td>\n",
       "      <td>N</td>\n",
       "      <td>RTU_HEALTH</td>\n",
       "      <td>NaN</td>\n",
       "      <td>1.00000</td>\n",
       "      <td>0x00001000</td>\n",
       "      <td>PLC</td>\n",
       "    </tr>\n",
       "    <tr>\n",
       "      <th>18</th>\n",
       "      <td>13803</td>\n",
       "      <td>3/28/22 12:21</td>\n",
       "      <td>N</td>\n",
       "      <td>RTU_HEALTH</td>\n",
       "      <td>NaN</td>\n",
       "      <td>3.00000</td>\n",
       "      <td>0x00001000</td>\n",
       "      <td>PLC</td>\n",
       "    </tr>\n",
       "    <tr>\n",
       "      <th>19</th>\n",
       "      <td>13793</td>\n",
       "      <td>3/28/22 12:21</td>\n",
       "      <td>N</td>\n",
       "      <td>TEMP</td>\n",
       "      <td>NaN</td>\n",
       "      <td>31.18700</td>\n",
       "      <td>0x00001000</td>\n",
       "      <td>PLC</td>\n",
       "    </tr>\n",
       "  </tbody>\n",
       "</table>\n",
       "</div>"
      ],
      "text/plain": [
       "    logID           DATE LOCAL        NAME  DESC       VAL          QF SOURCE\n",
       "0   13805  3/28/22 12:41     N     CPU_USE   NaN  77.86260  0x00001000    PLC\n",
       "1   13808  3/28/22 12:41     N   FAIL_CONF   NaN   0.00000  0x00001000    PLC\n",
       "2   13809  3/28/22 12:41     N    FAIL_RTU   NaN   0.00000  0x00001000    PLC\n",
       "3   13806  3/28/22 12:41     N     MEM_USE   NaN  62.66120  0x00001000    PLC\n",
       "4   13804  3/28/22 12:41     N       PS1_V   NaN   5.38353  0x00001000    PLC\n",
       "5   13810  3/28/22 12:41     N  RTU_HEALTH   NaN   3.00000  0x00001000    PLC\n",
       "6   13807  3/28/22 12:41     N        TEMP   NaN  31.12500  0x00001000    PLC\n",
       "7   13791  3/28/22 12:21     N     CPU_USE   NaN  76.67980  0x00001000    PLC\n",
       "8   13798  3/28/22 12:21     N     CPU_USE   NaN  77.73820  0x00001000    PLC\n",
       "9   13794  3/28/22 12:21     N   FAIL_CONF   NaN   0.00000  0x00001000    PLC\n",
       "10  13801  3/28/22 12:21     N   FAIL_CONF   NaN   0.00000  0x00001000    PLC\n",
       "11  13795  3/28/22 12:21     N    FAIL_RTU   NaN   0.00000  0x00001000    PLC\n",
       "12  13802  3/28/22 12:21     N    FAIL_RTU   NaN   0.00000  0x00001000    PLC\n",
       "13  13792  3/28/22 12:21     N     MEM_USE   NaN  62.68540  0x00001000    PLC\n",
       "14  13799  3/28/22 12:21     N     MEM_USE   NaN  62.68480  0x00001000    PLC\n",
       "15  13790  3/28/22 12:21     N       PS1_V   NaN   5.38353  0x00001000    PLC\n",
       "16  13797  3/28/22 12:21     N       PS1_V   NaN   5.38453  0x00001000    PLC\n",
       "17  13796  3/28/22 12:21     N  RTU_HEALTH   NaN   1.00000  0x00001000    PLC\n",
       "18  13803  3/28/22 12:21     N  RTU_HEALTH   NaN   3.00000  0x00001000    PLC\n",
       "19  13793  3/28/22 12:21     N        TEMP   NaN  31.18700  0x00001000    PLC"
      ]
     },
     "execution_count": 5,
     "metadata": {},
     "output_type": "execute_result"
    }
   ],
   "source": [
    "df[:20]"
   ]
  },
  {
   "cell_type": "code",
   "execution_count": 3,
   "id": "33feb998",
   "metadata": {},
   "outputs": [
    {
     "data": {
      "text/plain": [
       "array(['CPU_USE', 'FAIL_CONF', 'FAIL_RTU', 'MEM_USE', 'PS1_V',\n",
       "       'RTU_HEALTH', 'TEMP'], dtype=object)"
      ]
     },
     "execution_count": 3,
     "metadata": {},
     "output_type": "execute_result"
    }
   ],
   "source": [
    "df[\"NAME\"].unique()"
   ]
  },
  {
   "cell_type": "code",
   "execution_count": 5,
   "id": "d71017f5",
   "metadata": {},
   "outputs": [],
   "source": [
    "CPUs = df[df[\"NAME\"] == \"CPU_USE\"][\"VAL\"].dropna()[:-1]\n",
    "FAIL_CONFs = df[df[\"NAME\"] == \"FAIL_CONF\"][\"VAL\"].dropna()\n",
    "FAIL_RTUs = df[df[\"NAME\"] == \"FAIL_RTU\"][\"VAL\"].dropna()\n",
    "MEM_USEs = df[df[\"NAME\"] == \"MEM_USE\"][\"VAL\"].dropna()\n",
    "PS1_Vs = df[df[\"NAME\"] == \"PS1_V\"][\"VAL\"].dropna()\n",
    "RTU_HEALTHs = df[df[\"NAME\"] == \"RTU_HEALTH\"][\"VAL\"].dropna()\n",
    "TEMPs = df[df[\"NAME\"] == \"TEMP\"][\"VAL\"].dropna()"
   ]
  },
  {
   "cell_type": "code",
   "execution_count": 6,
   "id": "853e1b23",
   "metadata": {},
   "outputs": [
    {
     "name": "stdout",
     "output_type": "stream",
     "text": [
      "len(CPUs): 377\n",
      "len(FAIL_CONFs): 377\n",
      "len(FAIL_RTUs): 377\n",
      "len(MEM_USEs): 377\n",
      "len(PS1_Vs): 377\n",
      "len(RTU_HEALTHs): 377\n",
      "len(TEMPs): 377\n"
     ]
    }
   ],
   "source": [
    "print(\"len(CPUs):\", len(CPUs))\n",
    "print(\"len(FAIL_CONFs):\", len(FAIL_CONFs))\n",
    "print(\"len(FAIL_RTUs):\", len(FAIL_RTUs))\n",
    "print(\"len(MEM_USEs):\", len(MEM_USEs))\n",
    "print(\"len(PS1_Vs):\", len(PS1_Vs))\n",
    "print(\"len(RTU_HEALTHs):\", len(RTU_HEALTHs))\n",
    "print(\"len(TEMPs):\", len(TEMPs))"
   ]
  },
  {
   "cell_type": "markdown",
   "id": "1f7d697a",
   "metadata": {},
   "source": [
    "# ERROR distribution"
   ]
  },
  {
   "cell_type": "code",
   "execution_count": 7,
   "id": "c7713d9c",
   "metadata": {},
   "outputs": [
    {
     "name": "stdout",
     "output_type": "stream",
     "text": [
      "FAIL_CONFs.unique [0.]\n",
      "FAIL_RTUs.unique [0.]\n",
      "RTU_HEALTHs.unique [3. 1. 2.]\n"
     ]
    }
   ],
   "source": [
    "print(\"FAIL_CONFs.unique\", FAIL_CONFs.unique())\n",
    "print(\"FAIL_RTUs.unique\", FAIL_RTUs.unique())\n",
    "print(\"RTU_HEALTHs.unique\", RTU_HEALTHs.unique())"
   ]
  },
  {
   "cell_type": "markdown",
   "id": "b5800948",
   "metadata": {},
   "source": [
    "---------------> NB: there are no errors in the dataset!!!"
   ]
  },
  {
   "cell_type": "markdown",
   "id": "f079c7d8",
   "metadata": {},
   "source": [
    "# Correlations\n"
   ]
  },
  {
   "cell_type": "markdown",
   "id": "42a394a4",
   "metadata": {},
   "source": [
    "## CPU"
   ]
  },
  {
   "cell_type": "code",
   "execution_count": 98,
   "id": "894a7fee",
   "metadata": {},
   "outputs": [
    {
     "name": "stdout",
     "output_type": "stream",
     "text": [
      "pearsonr(CPUs, TEMPs):  0.2505619822815974\n",
      "pearsonr(CPUs, MEM_USEs):  8.786607940359446e-36\n",
      "pearsonr(CPUs, PS1_Vs):  0.33321768947957675\n",
      "pearsonr(CPUs, RTU_HEALTHs):  0.12338897563973102\n"
     ]
    }
   ],
   "source": [
    "print(\"pearsonr(CPUs, TEMPs): \", pearsonr(CPUs, TEMPs)[1])\n",
    "print(\"pearsonr(CPUs, MEM_USEs): \", pearsonr(CPUs, MEM_USEs)[1])\n",
    "print(\"pearsonr(CPUs, PS1_Vs): \", pearsonr(CPUs, PS1_Vs)[1])\n",
    "print(\"pearsonr(CPUs, RTU_HEALTHs): \", pearsonr(CPUs, RTU_HEALTHs)[1])"
   ]
  },
  {
   "cell_type": "markdown",
   "id": "39a3e816",
   "metadata": {},
   "source": [
    "## MEMORY USAGE\n"
   ]
  },
  {
   "cell_type": "code",
   "execution_count": 99,
   "id": "1c39a9bc",
   "metadata": {},
   "outputs": [
    {
     "name": "stdout",
     "output_type": "stream",
     "text": [
      "pearsonr(MEM_USEs, TEMPs):  0.0009284286611734351\n",
      "pearsonr(MEM_USEs, PS1_Vs):  0.5632157774318161\n",
      "pearsonr(MEM_USEs, RTU_HEALTHs):  0.4720148305912593\n"
     ]
    }
   ],
   "source": [
    "print(\"pearsonr(MEM_USEs, TEMPs): \", pearsonr(MEM_USEs, TEMPs)[1])\n",
    "print(\"pearsonr(MEM_USEs, PS1_Vs): \", pearsonr(MEM_USEs, PS1_Vs)[1])\n",
    "print(\"pearsonr(MEM_USEs, RTU_HEALTHs): \", pearsonr(MEM_USEs, RTU_HEALTHs)[1])"
   ]
  },
  {
   "cell_type": "markdown",
   "id": "940f1203",
   "metadata": {},
   "source": [
    "## PS1_vs"
   ]
  },
  {
   "cell_type": "code",
   "execution_count": 100,
   "id": "8a9751ea",
   "metadata": {},
   "outputs": [
    {
     "name": "stdout",
     "output_type": "stream",
     "text": [
      "pearsonr(PS1_Vs, TEMPs):  0.23315064103529948\n",
      "pearsonr(PS1_Vs, RTU_HEALTHs):  0.7334088000294624\n"
     ]
    }
   ],
   "source": [
    "print(\"pearsonr(PS1_Vs, TEMPs): \", pearsonr(PS1_Vs, TEMPs)[1])\n",
    "print(\"pearsonr(PS1_Vs, RTU_HEALTHs): \", pearsonr(PS1_Vs, RTU_HEALTHs)[1])"
   ]
  },
  {
   "cell_type": "markdown",
   "id": "30014a0c",
   "metadata": {},
   "source": [
    "## Conclusions from a preliminary analysis\n",
    "There is no correlation with errors, since there are not errors in the dataset.\n",
    "There is a weak corellation between:\n",
    "- PS1_Vs and MEM_USEs (0.56)\n",
    "- PS1_Vs and RTU_HEALTHs (0.73)"
   ]
  },
  {
   "cell_type": "code",
   "execution_count": null,
   "id": "13386adf",
   "metadata": {},
   "outputs": [],
   "source": []
  }
 ],
 "metadata": {
  "kernelspec": {
   "display_name": "Python 3 (ipykernel)",
   "language": "python",
   "name": "python3"
  },
  "language_info": {
   "codemirror_mode": {
    "name": "ipython",
    "version": 3
   },
   "file_extension": ".py",
   "mimetype": "text/x-python",
   "name": "python",
   "nbconvert_exporter": "python",
   "pygments_lexer": "ipython3",
   "version": "3.11.3"
  }
 },
 "nbformat": 4,
 "nbformat_minor": 5
}
