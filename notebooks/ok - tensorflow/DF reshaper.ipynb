{
 "cells": [
  {
   "cell_type": "code",
   "execution_count": 1,
   "id": "9bcc3147",
   "metadata": {},
   "outputs": [],
   "source": [
    "import pandas as pd\n",
    "import numpy as np\n",
    "from sklearn.model_selection import train_test_split\n",
    "from sklearn.neighbors import KNeighborsRegressor\n",
    "from sklearn.ensemble import RandomForestRegressor\n",
    "from sklearn import metrics\n",
    "from sklearn import preprocessing\n",
    "\n",
    "from mpl_toolkits import mplot3d\n",
    "import numpy as np\n",
    "import matplotlib.pyplot as plt"
   ]
  },
  {
   "cell_type": "code",
   "execution_count": 7,
   "id": "50bda4a6",
   "metadata": {},
   "outputs": [],
   "source": [
    "DATA_PATH = 'SOE_28-03-2022.xlsx - Sheet2.csv'\n",
    "df = pd.read_csv(DATA_PATH)\n",
    "df['timestamp'] = pd.to_datetime(df['DATE'])\n",
    "df = df.sort_values(by=[\"timestamp\"]) \n",
    "df = df[1:]"
   ]
  },
  {
   "cell_type": "code",
   "execution_count": 9,
   "id": "d07e19d1",
   "metadata": {},
   "outputs": [],
   "source": [
    "CPUs, MEMs, TEMPs, timestamps = [], [], [], []\n",
    "current_timestamp = None\n",
    "cpu, mem, temp = None, None, None\n",
    "for index, row in df.iterrows():\n",
    "    \n",
    "    if row[\"timestamp\"] != current_timestamp and cpu != None and mem != None and temp != None: \n",
    "#         print((cpu, mem, temp))\n",
    "        CPUs.append(cpu)\n",
    "        MEMs.append(mem)\n",
    "        TEMPs.append(temp)\n",
    "        timestamps.append(current_timestamp)\n",
    "    \n",
    "    if row[\"NAME\"] == \"CPU_USE\":\n",
    "        cpu = row[\"VAL\"]\n",
    "        \n",
    "    if row[\"NAME\"] == \"MEM_USE\":\n",
    "        mem = row[\"VAL\"]\n",
    "        \n",
    "    if row[\"NAME\"] == \"TEMP\":\n",
    "        temp = row[\"VAL\"]\n",
    "        \n",
    "    current_timestamp = row[\"timestamp\"]\n",
    "        "
   ]
  },
  {
   "cell_type": "code",
   "execution_count": 11,
   "id": "9e01989f",
   "metadata": {},
   "outputs": [
    {
     "name": "stdout",
     "output_type": "stream",
     "text": [
      "len(CPUs): 283\n",
      "len(MEM_USEs): 283\n",
      "len(TEMPs): 283\n",
      "len(timestamps): 283\n"
     ]
    }
   ],
   "source": [
    "print(\"len(CPUs):\", len(CPUs))\n",
    "print(\"len(MEM_USEs):\", len(MEMs))\n",
    "print(\"len(TEMPs):\", len(TEMPs))\n",
    "print(\"len(timestamps):\", len(timestamps))"
   ]
  },
  {
   "cell_type": "code",
   "execution_count": 12,
   "id": "efd9233b",
   "metadata": {},
   "outputs": [],
   "source": [
    "df_dict = {\"CPUs\": CPUs, \"MEMs\": MEMs, \"TEMPs\": TEMPs, \"timestamps\": timestamps}\n",
    "df_reshaped = pd.DataFrame.from_dict(df_dict)\n",
    "df_reshaped.head()\n",
    "df_reshaped.to_pickle(\"./last_data.pkl\")  "
   ]
  }
 ],
 "metadata": {
  "kernelspec": {
   "display_name": "Python 3 (ipykernel)",
   "language": "python",
   "name": "python3"
  },
  "language_info": {
   "codemirror_mode": {
    "name": "ipython",
    "version": 3
   },
   "file_extension": ".py",
   "mimetype": "text/x-python",
   "name": "python",
   "nbconvert_exporter": "python",
   "pygments_lexer": "ipython3",
   "version": "3.9.7"
  }
 },
 "nbformat": 4,
 "nbformat_minor": 5
}
