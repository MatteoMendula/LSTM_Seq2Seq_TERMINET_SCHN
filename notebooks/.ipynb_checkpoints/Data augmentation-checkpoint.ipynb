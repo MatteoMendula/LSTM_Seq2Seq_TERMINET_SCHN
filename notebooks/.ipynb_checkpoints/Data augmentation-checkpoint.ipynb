{
 "cells": [
  {
   "cell_type": "markdown",
   "id": "0a8755f6",
   "metadata": {},
   "source": [
    "# DATA aumentation on TERMINET SCHN dataset"
   ]
  },
  {
   "cell_type": "code",
   "execution_count": 1,
   "id": "3a1a228c",
   "metadata": {},
   "outputs": [],
   "source": [
    "import pandas as pd\n",
    "import numpy as np\n",
    "import torch\n",
    "from torch import nn\n",
    "from torch import optim\n",
    "from sklearn.preprocessing import StandardScaler\n",
    "from functools import partial\n",
    "import deep_tabular_augmentation as dta\n",
    "from sklearn.model_selection import train_test_split\n",
    "\n",
    "from sklearn.ensemble import RandomForestClassifier\n",
    "from sklearn.metrics import confusion_matrix\n",
    "\n",
    "import matplotlib.pyplot as plt "
   ]
  },
  {
   "cell_type": "code",
   "execution_count": 2,
   "id": "353b2d76",
   "metadata": {},
   "outputs": [
    {
     "data": {
      "text/html": [
       "<div>\n",
       "<style scoped>\n",
       "    .dataframe tbody tr th:only-of-type {\n",
       "        vertical-align: middle;\n",
       "    }\n",
       "\n",
       "    .dataframe tbody tr th {\n",
       "        vertical-align: top;\n",
       "    }\n",
       "\n",
       "    .dataframe thead th {\n",
       "        text-align: right;\n",
       "    }\n",
       "</style>\n",
       "<table border=\"1\" class=\"dataframe\">\n",
       "  <thead>\n",
       "    <tr style=\"text-align: right;\">\n",
       "      <th></th>\n",
       "      <th>logID</th>\n",
       "      <th>DATE</th>\n",
       "      <th>LOCAL</th>\n",
       "      <th>NAME</th>\n",
       "      <th>DESC</th>\n",
       "      <th>VAL</th>\n",
       "      <th>QF</th>\n",
       "      <th>SOURCE</th>\n",
       "    </tr>\n",
       "  </thead>\n",
       "  <tbody>\n",
       "    <tr>\n",
       "      <th>0</th>\n",
       "      <td>13805</td>\n",
       "      <td>3/28/22 12:41</td>\n",
       "      <td>N</td>\n",
       "      <td>CPU_USE</td>\n",
       "      <td>NaN</td>\n",
       "      <td>77.86260</td>\n",
       "      <td>0x00001000</td>\n",
       "      <td>PLC</td>\n",
       "    </tr>\n",
       "    <tr>\n",
       "      <th>1</th>\n",
       "      <td>13808</td>\n",
       "      <td>3/28/22 12:41</td>\n",
       "      <td>N</td>\n",
       "      <td>FAIL_CONF</td>\n",
       "      <td>NaN</td>\n",
       "      <td>0.00000</td>\n",
       "      <td>0x00001000</td>\n",
       "      <td>PLC</td>\n",
       "    </tr>\n",
       "    <tr>\n",
       "      <th>2</th>\n",
       "      <td>13809</td>\n",
       "      <td>3/28/22 12:41</td>\n",
       "      <td>N</td>\n",
       "      <td>FAIL_RTU</td>\n",
       "      <td>NaN</td>\n",
       "      <td>0.00000</td>\n",
       "      <td>0x00001000</td>\n",
       "      <td>PLC</td>\n",
       "    </tr>\n",
       "    <tr>\n",
       "      <th>3</th>\n",
       "      <td>13806</td>\n",
       "      <td>3/28/22 12:41</td>\n",
       "      <td>N</td>\n",
       "      <td>MEM_USE</td>\n",
       "      <td>NaN</td>\n",
       "      <td>62.66120</td>\n",
       "      <td>0x00001000</td>\n",
       "      <td>PLC</td>\n",
       "    </tr>\n",
       "    <tr>\n",
       "      <th>4</th>\n",
       "      <td>13804</td>\n",
       "      <td>3/28/22 12:41</td>\n",
       "      <td>N</td>\n",
       "      <td>PS1_V</td>\n",
       "      <td>NaN</td>\n",
       "      <td>5.38353</td>\n",
       "      <td>0x00001000</td>\n",
       "      <td>PLC</td>\n",
       "    </tr>\n",
       "    <tr>\n",
       "      <th>...</th>\n",
       "      <td>...</td>\n",
       "      <td>...</td>\n",
       "      <td>...</td>\n",
       "      <td>...</td>\n",
       "      <td>...</td>\n",
       "      <td>...</td>\n",
       "      <td>...</td>\n",
       "      <td>...</td>\n",
       "    </tr>\n",
       "    <tr>\n",
       "      <th>2635</th>\n",
       "      <td>11174</td>\n",
       "      <td>3/24/22 14:39</td>\n",
       "      <td>N</td>\n",
       "      <td>MEM_USE</td>\n",
       "      <td>NaN</td>\n",
       "      <td>34.79740</td>\n",
       "      <td>0x00001000</td>\n",
       "      <td>PLC</td>\n",
       "    </tr>\n",
       "    <tr>\n",
       "      <th>2636</th>\n",
       "      <td>11172</td>\n",
       "      <td>3/24/22 14:39</td>\n",
       "      <td>N</td>\n",
       "      <td>PS1_V</td>\n",
       "      <td>NaN</td>\n",
       "      <td>5.38353</td>\n",
       "      <td>0x00001000</td>\n",
       "      <td>PLC</td>\n",
       "    </tr>\n",
       "    <tr>\n",
       "      <th>2637</th>\n",
       "      <td>11178</td>\n",
       "      <td>3/24/22 14:39</td>\n",
       "      <td>N</td>\n",
       "      <td>RTU_HEALTH</td>\n",
       "      <td>NaN</td>\n",
       "      <td>3.00000</td>\n",
       "      <td>0x00001000</td>\n",
       "      <td>PLC</td>\n",
       "    </tr>\n",
       "    <tr>\n",
       "      <th>2638</th>\n",
       "      <td>11175</td>\n",
       "      <td>3/24/22 14:39</td>\n",
       "      <td>N</td>\n",
       "      <td>TEMP</td>\n",
       "      <td>NaN</td>\n",
       "      <td>31.75000</td>\n",
       "      <td>0x00001000</td>\n",
       "      <td>PLC</td>\n",
       "    </tr>\n",
       "    <tr>\n",
       "      <th>2639</th>\n",
       "      <td>11159</td>\n",
       "      <td>3/24/22 14:19</td>\n",
       "      <td>N</td>\n",
       "      <td>CPU_USE</td>\n",
       "      <td>NaN</td>\n",
       "      <td>59.02260</td>\n",
       "      <td>0x00001000</td>\n",
       "      <td>PLC</td>\n",
       "    </tr>\n",
       "  </tbody>\n",
       "</table>\n",
       "<p>2640 rows × 8 columns</p>\n",
       "</div>"
      ],
      "text/plain": [
       "      logID           DATE LOCAL        NAME  DESC       VAL          QF  \\\n",
       "0     13805  3/28/22 12:41     N     CPU_USE   NaN  77.86260  0x00001000   \n",
       "1     13808  3/28/22 12:41     N   FAIL_CONF   NaN   0.00000  0x00001000   \n",
       "2     13809  3/28/22 12:41     N    FAIL_RTU   NaN   0.00000  0x00001000   \n",
       "3     13806  3/28/22 12:41     N     MEM_USE   NaN  62.66120  0x00001000   \n",
       "4     13804  3/28/22 12:41     N       PS1_V   NaN   5.38353  0x00001000   \n",
       "...     ...            ...   ...         ...   ...       ...         ...   \n",
       "2635  11174  3/24/22 14:39     N     MEM_USE   NaN  34.79740  0x00001000   \n",
       "2636  11172  3/24/22 14:39     N       PS1_V   NaN   5.38353  0x00001000   \n",
       "2637  11178  3/24/22 14:39     N  RTU_HEALTH   NaN   3.00000  0x00001000   \n",
       "2638  11175  3/24/22 14:39     N        TEMP   NaN  31.75000  0x00001000   \n",
       "2639  11159  3/24/22 14:19     N     CPU_USE   NaN  59.02260  0x00001000   \n",
       "\n",
       "     SOURCE  \n",
       "0       PLC  \n",
       "1       PLC  \n",
       "2       PLC  \n",
       "3       PLC  \n",
       "4       PLC  \n",
       "...     ...  \n",
       "2635    PLC  \n",
       "2636    PLC  \n",
       "2637    PLC  \n",
       "2638    PLC  \n",
       "2639    PLC  \n",
       "\n",
       "[2640 rows x 8 columns]"
      ]
     },
     "execution_count": 2,
     "metadata": {},
     "output_type": "execute_result"
    }
   ],
   "source": [
    "device = torch.device('cuda' if torch.cuda.is_available() else 'cpu')\n",
    "DATA_PATH = 'SOE_28-03-2022.xlsx - Sheet2.csv'\n",
    "df = pd.read_csv(DATA_PATH)\n",
    "df"
   ]
  },
  {
   "cell_type": "code",
   "execution_count": 3,
   "id": "005cdaf3",
   "metadata": {},
   "outputs": [
    {
     "data": {
      "text/plain": [
       "0       77.8626\n",
       "7       76.6798\n",
       "8       77.7382\n",
       "21      77.3428\n",
       "28      77.8626\n",
       "         ...   \n",
       "2611    60.2317\n",
       "2612    60.2327\n",
       "2625    59.9212\n",
       "2632    59.1603\n",
       "2639    59.0226\n",
       "Name: VAL, Length: 378, dtype: float64"
      ]
     },
     "execution_count": 3,
     "metadata": {},
     "output_type": "execute_result"
    }
   ],
   "source": [
    "df[df[\"NAME\"]==\"CPU_USE\"][\"VAL\"]"
   ]
  },
  {
   "cell_type": "markdown",
   "id": "df6c3de4",
   "metadata": {},
   "source": [
    "---\n",
    "## There is the need to reshape the data grouping by same date\n",
    "---"
   ]
  },
  {
   "cell_type": "code",
   "execution_count": 4,
   "id": "4cd40508",
   "metadata": {},
   "outputs": [
    {
     "name": "stdout",
     "output_type": "stream",
     "text": [
      "len(CPUs): 377\n",
      "len(FAIL_CONFs): 377\n",
      "len(FAIL_RTUs): 377\n",
      "len(MEM_USEs): 377\n",
      "len(PS1_Vs): 377\n",
      "len(RTU_HEALTHs): 377\n",
      "len(TEMPs): 377\n"
     ]
    }
   ],
   "source": [
    "CPUs = df[df[\"NAME\"] == \"CPU_USE\"][\"VAL\"].dropna().tolist()[:-1]\n",
    "FAIL_CONFs = df[df[\"NAME\"] == \"FAIL_CONF\"][\"VAL\"].dropna().tolist()\n",
    "FAIL_RTUs = df[df[\"NAME\"] == \"FAIL_RTU\"][\"VAL\"].dropna().tolist()\n",
    "MEM_USEs = df[df[\"NAME\"] == \"MEM_USE\"][\"VAL\"].dropna().tolist()\n",
    "PS1_Vs = df[df[\"NAME\"] == \"PS1_V\"][\"VAL\"].dropna().tolist()\n",
    "RTU_HEALTHs = df[df[\"NAME\"] == \"RTU_HEALTH\"][\"VAL\"].dropna().tolist()\n",
    "TEMPs = df[df[\"NAME\"] == \"TEMP\"][\"VAL\"].dropna().tolist()\n",
    "\n",
    "print(\"len(CPUs):\", len(CPUs))\n",
    "print(\"len(FAIL_CONFs):\", len(FAIL_CONFs))\n",
    "print(\"len(FAIL_RTUs):\", len(FAIL_RTUs))\n",
    "print(\"len(MEM_USEs):\", len(MEM_USEs))\n",
    "print(\"len(PS1_Vs):\", len(PS1_Vs))\n",
    "print(\"len(RTU_HEALTHs):\", len(RTU_HEALTHs))\n",
    "print(\"len(TEMPs):\", len(TEMPs))"
   ]
  },
  {
   "cell_type": "code",
   "execution_count": 5,
   "id": "36dc2886",
   "metadata": {},
   "outputs": [
    {
     "data": {
      "text/html": [
       "<div>\n",
       "<style scoped>\n",
       "    .dataframe tbody tr th:only-of-type {\n",
       "        vertical-align: middle;\n",
       "    }\n",
       "\n",
       "    .dataframe tbody tr th {\n",
       "        vertical-align: top;\n",
       "    }\n",
       "\n",
       "    .dataframe thead th {\n",
       "        text-align: right;\n",
       "    }\n",
       "</style>\n",
       "<table border=\"1\" class=\"dataframe\">\n",
       "  <thead>\n",
       "    <tr style=\"text-align: right;\">\n",
       "      <th></th>\n",
       "      <th>CPUs</th>\n",
       "      <th>FAIL_CONFs</th>\n",
       "      <th>FAIL_RTUs</th>\n",
       "      <th>MEM_USEs</th>\n",
       "      <th>PS1_Vs</th>\n",
       "      <th>RTU_HEALTHs</th>\n",
       "      <th>TEMPs</th>\n",
       "    </tr>\n",
       "  </thead>\n",
       "  <tbody>\n",
       "    <tr>\n",
       "      <th>0</th>\n",
       "      <td>77.8626</td>\n",
       "      <td>0.0</td>\n",
       "      <td>0.0</td>\n",
       "      <td>62.6612</td>\n",
       "      <td>5.38353</td>\n",
       "      <td>3.0</td>\n",
       "      <td>31.125</td>\n",
       "    </tr>\n",
       "    <tr>\n",
       "      <th>1</th>\n",
       "      <td>76.6798</td>\n",
       "      <td>0.0</td>\n",
       "      <td>0.0</td>\n",
       "      <td>62.6854</td>\n",
       "      <td>5.38353</td>\n",
       "      <td>1.0</td>\n",
       "      <td>31.187</td>\n",
       "    </tr>\n",
       "    <tr>\n",
       "      <th>2</th>\n",
       "      <td>77.7382</td>\n",
       "      <td>0.0</td>\n",
       "      <td>0.0</td>\n",
       "      <td>62.6848</td>\n",
       "      <td>5.38453</td>\n",
       "      <td>3.0</td>\n",
       "      <td>31.188</td>\n",
       "    </tr>\n",
       "    <tr>\n",
       "      <th>3</th>\n",
       "      <td>77.3428</td>\n",
       "      <td>0.0</td>\n",
       "      <td>0.0</td>\n",
       "      <td>62.6844</td>\n",
       "      <td>5.40841</td>\n",
       "      <td>3.0</td>\n",
       "      <td>31.124</td>\n",
       "    </tr>\n",
       "    <tr>\n",
       "      <th>4</th>\n",
       "      <td>77.8626</td>\n",
       "      <td>0.0</td>\n",
       "      <td>0.0</td>\n",
       "      <td>62.6628</td>\n",
       "      <td>5.38353</td>\n",
       "      <td>3.0</td>\n",
       "      <td>31.000</td>\n",
       "    </tr>\n",
       "  </tbody>\n",
       "</table>\n",
       "</div>"
      ],
      "text/plain": [
       "      CPUs  FAIL_CONFs  FAIL_RTUs  MEM_USEs   PS1_Vs  RTU_HEALTHs   TEMPs\n",
       "0  77.8626         0.0        0.0   62.6612  5.38353          3.0  31.125\n",
       "1  76.6798         0.0        0.0   62.6854  5.38353          1.0  31.187\n",
       "2  77.7382         0.0        0.0   62.6848  5.38453          3.0  31.188\n",
       "3  77.3428         0.0        0.0   62.6844  5.40841          3.0  31.124\n",
       "4  77.8626         0.0        0.0   62.6628  5.38353          3.0  31.000"
      ]
     },
     "execution_count": 5,
     "metadata": {},
     "output_type": "execute_result"
    }
   ],
   "source": [
    "df_dict = {\"CPUs\": CPUs, \"FAIL_CONFs\": FAIL_CONFs, \"FAIL_RTUs\": FAIL_RTUs, \"MEM_USEs\": MEM_USEs, \"PS1_Vs\": PS1_Vs, \"RTU_HEALTHs\": RTU_HEALTHs, \"TEMPs\": TEMPs}\n",
    "df_reshaped = pd.DataFrame.from_dict(df_dict)\n",
    "df_reshaped.head()"
   ]
  },
  {
   "cell_type": "markdown",
   "id": "2ba0d9bc",
   "metadata": {},
   "source": [
    "# Data augmentation"
   ]
  },
  {
   "cell_type": "code",
   "execution_count": 6,
   "id": "7f38e4e7",
   "metadata": {},
   "outputs": [
    {
     "data": {
      "text/html": [
       "<div>\n",
       "<style scoped>\n",
       "    .dataframe tbody tr th:only-of-type {\n",
       "        vertical-align: middle;\n",
       "    }\n",
       "\n",
       "    .dataframe tbody tr th {\n",
       "        vertical-align: top;\n",
       "    }\n",
       "\n",
       "    .dataframe thead th {\n",
       "        text-align: right;\n",
       "    }\n",
       "</style>\n",
       "<table border=\"1\" class=\"dataframe\">\n",
       "  <thead>\n",
       "    <tr style=\"text-align: right;\">\n",
       "      <th></th>\n",
       "      <th>CPUs</th>\n",
       "      <th>FAIL_CONFs</th>\n",
       "      <th>FAIL_RTUs</th>\n",
       "      <th>MEM_USEs</th>\n",
       "      <th>PS1_Vs</th>\n",
       "      <th>RTU_HEALTHs</th>\n",
       "      <th>TEMPs</th>\n",
       "    </tr>\n",
       "  </thead>\n",
       "  <tbody>\n",
       "    <tr>\n",
       "      <th>0</th>\n",
       "      <td>-0.256360</td>\n",
       "      <td>0.0</td>\n",
       "      <td>0.0</td>\n",
       "      <td>-0.554650</td>\n",
       "      <td>0.378668</td>\n",
       "      <td>0.335658</td>\n",
       "      <td>-0.548251</td>\n",
       "    </tr>\n",
       "    <tr>\n",
       "      <th>1</th>\n",
       "      <td>-0.165282</td>\n",
       "      <td>0.0</td>\n",
       "      <td>0.0</td>\n",
       "      <td>0.402059</td>\n",
       "      <td>0.378668</td>\n",
       "      <td>0.335658</td>\n",
       "      <td>-0.816868</td>\n",
       "    </tr>\n",
       "    <tr>\n",
       "      <th>2</th>\n",
       "      <td>0.468665</td>\n",
       "      <td>0.0</td>\n",
       "      <td>0.0</td>\n",
       "      <td>0.995027</td>\n",
       "      <td>-2.099245</td>\n",
       "      <td>0.335658</td>\n",
       "      <td>-0.552583</td>\n",
       "    </tr>\n",
       "    <tr>\n",
       "      <th>3</th>\n",
       "      <td>0.769275</td>\n",
       "      <td>0.0</td>\n",
       "      <td>0.0</td>\n",
       "      <td>0.567372</td>\n",
       "      <td>0.378668</td>\n",
       "      <td>0.335658</td>\n",
       "      <td>1.349398</td>\n",
       "    </tr>\n",
       "    <tr>\n",
       "      <th>4</th>\n",
       "      <td>0.784632</td>\n",
       "      <td>0.0</td>\n",
       "      <td>0.0</td>\n",
       "      <td>0.569413</td>\n",
       "      <td>0.286484</td>\n",
       "      <td>0.335658</td>\n",
       "      <td>-0.279634</td>\n",
       "    </tr>\n",
       "  </tbody>\n",
       "</table>\n",
       "</div>"
      ],
      "text/plain": [
       "       CPUs  FAIL_CONFs  FAIL_RTUs  MEM_USEs    PS1_Vs  RTU_HEALTHs     TEMPs\n",
       "0 -0.256360         0.0        0.0 -0.554650  0.378668     0.335658 -0.548251\n",
       "1 -0.165282         0.0        0.0  0.402059  0.378668     0.335658 -0.816868\n",
       "2  0.468665         0.0        0.0  0.995027 -2.099245     0.335658 -0.552583\n",
       "3  0.769275         0.0        0.0  0.567372  0.378668     0.335658  1.349398\n",
       "4  0.784632         0.0        0.0  0.569413  0.286484     0.335658 -0.279634"
      ]
     },
     "execution_count": 6,
     "metadata": {},
     "output_type": "execute_result"
    }
   ],
   "source": [
    "X_train, X_test = train_test_split(df_reshaped, test_size=0.1, random_state=42)\n",
    "x_scaler = StandardScaler()\n",
    "X_train_scaled = x_scaler.fit_transform(X_train)\n",
    "X_test_scaled = x_scaler.transform(X_test)\n",
    "pd.DataFrame(X_train_scaled, columns=list(df_reshaped.columns)).head()"
   ]
  },
  {
   "cell_type": "code",
   "execution_count": 7,
   "id": "e1404e49",
   "metadata": {},
   "outputs": [
    {
     "data": {
      "text/plain": [
       "(377, 7)"
      ]
     },
     "execution_count": 7,
     "metadata": {},
     "output_type": "execute_result"
    }
   ],
   "source": [
    "df_reshaped.shape"
   ]
  },
  {
   "cell_type": "code",
   "execution_count": 8,
   "id": "ed3e870d",
   "metadata": {},
   "outputs": [],
   "source": [
    "datasets = dta.create_datasets_no_target_var(X_train_scaled, X_test_scaled)\n",
    "data = dta.DataBunch(*dta.create_loaders(datasets, bs=1024))"
   ]
  },
  {
   "cell_type": "markdown",
   "id": "d41de3b6",
   "metadata": {},
   "source": [
    "Now we have to define the Variational Encoder Architecture (here: 50->12->12->5->12->12->50) and then use the LearningRate Finder to tell us the best Learning rate:"
   ]
  },
  {
   "cell_type": "code",
   "execution_count": 9,
   "id": "1b1ee215",
   "metadata": {},
   "outputs": [],
   "source": [
    "D_in = X_train_scaled.shape[1]\n",
    "VAE_arch = [50, 12, 12]\n",
    "df_cols = list(df_reshaped.columns)\n",
    "\n",
    "model = dta.Autoencoder(D_in, VAE_arch, latent_dim=5).to(device)\n",
    "opt = optim.Adam(model.parameters(), lr=0.01)\n",
    "loss_func = dta.customLoss()\n",
    "learn = dta.Learner(model, opt, loss_func, data, cols=df_cols)\n",
    "\n",
    "run = dta.Runner(cb_funcs=[dta.LR_Find, dta.Recorder])\n",
    "run.fit(100, learn)"
   ]
  },
  {
   "cell_type": "code",
   "execution_count": 10,
   "id": "3c9e8f30",
   "metadata": {},
   "outputs": [
    {
     "data": {
      "image/png": "[encoded data removed]",
      "text/plain": [
       "<Figure size 640x480 with 1 Axes>"
      ]
     },
     "metadata": {},
     "output_type": "display_data"
    }
   ],
   "source": [
    "run.recorder.plot(skip_last=5)"
   ]
  },
  {
   "cell_type": "markdown",
   "id": "1969a77e",
   "metadata": {},
   "source": [
    "So we can set up a desirable learning rate and scheduler for our learning rate:"
   ]
  },
  {
   "cell_type": "code",
   "execution_count": 11,
   "id": "41ed1da9",
   "metadata": {},
   "outputs": [],
   "source": [
    "sched = dta.combine_scheds([0.3, 0.7], [dta.sched_cos(0.01, 0.1), dta.sched_cos(0.1, 0.01)])"
   ]
  },
  {
   "cell_type": "markdown",
   "id": "ba965dbc",
   "metadata": {},
   "source": [
    "Train the model"
   ]
  },
  {
   "cell_type": "code",
   "execution_count": 12,
   "id": "9973f3a3",
   "metadata": {},
   "outputs": [
    {
     "name": "stdout",
     "output_type": "stream",
     "text": [
      "epoch: 50\n",
      "train loss is: 4912.99169921875\n",
      "validation loss is: 262.46270751953125\n",
      "epoch: 100\n",
      "train loss is: 2195.30126953125\n",
      "validation loss is: 270.4439392089844\n",
      "epoch: 150\n",
      "train loss is: 1773.4288330078125\n",
      "validation loss is: 232.69749450683594\n",
      "epoch: 200\n",
      "train loss is: 1607.8408203125\n",
      "validation loss is: 214.6608428955078\n",
      "epoch: 250\n",
      "train loss is: 1504.6492919921875\n",
      "validation loss is: 203.9186248779297\n",
      "epoch: 300\n",
      "train loss is: 1431.0821533203125\n",
      "validation loss is: 196.8430633544922\n",
      "epoch: 350\n",
      "train loss is: 1377.8641357421875\n",
      "validation loss is: 190.64309692382812\n",
      "epoch: 400\n",
      "train loss is: 1338.3409423828125\n",
      "validation loss is: 186.102783203125\n"
     ]
    }
   ],
   "source": [
    "cbfs = [partial(dta.LossTracker, show_every=50), dta.Recorder, partial(dta.ParamScheduler, 'lr', sched)]\n",
    "model = dta.Autoencoder(D_in, VAE_arch, latent_dim=20).to(device)\n",
    "opt = optim.Adam(model.parameters(), lr=0.01)\n",
    "learn = dta.Learner(model, opt, loss_func, data, cols=df_cols)\n",
    "run = dta.Runner(cb_funcs=cbfs)\n",
    "run.fit(400, learn)"
   ]
  },
  {
   "cell_type": "code",
   "execution_count": 13,
   "id": "97e7f11c",
   "metadata": {},
   "outputs": [
    {
     "data": {
      "text/html": [
       "<div>\n",
       "<style scoped>\n",
       "    .dataframe tbody tr th:only-of-type {\n",
       "        vertical-align: middle;\n",
       "    }\n",
       "\n",
       "    .dataframe tbody tr th {\n",
       "        vertical-align: top;\n",
       "    }\n",
       "\n",
       "    .dataframe thead th {\n",
       "        text-align: right;\n",
       "    }\n",
       "</style>\n",
       "<table border=\"1\" class=\"dataframe\">\n",
       "  <thead>\n",
       "    <tr style=\"text-align: right;\">\n",
       "      <th></th>\n",
       "      <th>CPUs</th>\n",
       "      <th>FAIL_CONFs</th>\n",
       "      <th>FAIL_RTUs</th>\n",
       "      <th>MEM_USEs</th>\n",
       "      <th>PS1_Vs</th>\n",
       "      <th>RTU_HEALTHs</th>\n",
       "      <th>TEMPs</th>\n",
       "    </tr>\n",
       "  </thead>\n",
       "  <tbody>\n",
       "    <tr>\n",
       "      <th>0</th>\n",
       "      <td>81.106627</td>\n",
       "      <td>10.0</td>\n",
       "      <td>10.0</td>\n",
       "      <td>73.139129</td>\n",
       "      <td>15.381080</td>\n",
       "      <td>12.947012</td>\n",
       "      <td>41.461904</td>\n",
       "    </tr>\n",
       "    <tr>\n",
       "      <th>1</th>\n",
       "      <td>80.884144</td>\n",
       "      <td>10.0</td>\n",
       "      <td>10.0</td>\n",
       "      <td>74.804890</td>\n",
       "      <td>15.383394</td>\n",
       "      <td>13.109954</td>\n",
       "      <td>41.550499</td>\n",
       "    </tr>\n",
       "    <tr>\n",
       "      <th>2</th>\n",
       "      <td>80.477068</td>\n",
       "      <td>10.0</td>\n",
       "      <td>10.0</td>\n",
       "      <td>69.260940</td>\n",
       "      <td>15.385508</td>\n",
       "      <td>12.959737</td>\n",
       "      <td>41.435039</td>\n",
       "    </tr>\n",
       "    <tr>\n",
       "      <th>3</th>\n",
       "      <td>83.250543</td>\n",
       "      <td>10.0</td>\n",
       "      <td>10.0</td>\n",
       "      <td>73.975960</td>\n",
       "      <td>15.378207</td>\n",
       "      <td>13.091520</td>\n",
       "      <td>41.516589</td>\n",
       "    </tr>\n",
       "    <tr>\n",
       "      <th>4</th>\n",
       "      <td>79.329734</td>\n",
       "      <td>10.0</td>\n",
       "      <td>10.0</td>\n",
       "      <td>75.208630</td>\n",
       "      <td>15.382084</td>\n",
       "      <td>12.850931</td>\n",
       "      <td>41.521451</td>\n",
       "    </tr>\n",
       "  </tbody>\n",
       "</table>\n",
       "</div>"
      ],
      "text/plain": [
       "        CPUs  FAIL_CONFs  FAIL_RTUs   MEM_USEs     PS1_Vs  RTU_HEALTHs  \\\n",
       "0  81.106627        10.0       10.0  73.139129  15.381080    12.947012   \n",
       "1  80.884144        10.0       10.0  74.804890  15.383394    13.109954   \n",
       "2  80.477068        10.0       10.0  69.260940  15.385508    12.959737   \n",
       "3  83.250543        10.0       10.0  73.975960  15.378207    13.091520   \n",
       "4  79.329734        10.0       10.0  75.208630  15.382084    12.850931   \n",
       "\n",
       "       TEMPs  \n",
       "0  41.461904  \n",
       "1  41.550499  \n",
       "2  41.435039  \n",
       "3  41.516589  \n",
       "4  41.521451  "
      ]
     },
     "execution_count": 13,
     "metadata": {},
     "output_type": "execute_result"
    }
   ],
   "source": [
    "new_data_points = 1000\n",
    "df_fake = run.predict_df(learn, no_samples=new_data_points, scaler=x_scaler)\n",
    "std_list = list(df_reshaped.std()/5)\n",
    "df_fake_with_noise = run.predict_with_noise_df(learn, no_samples=new_data_points, mu=10, sigma=std_list, scaler=x_scaler)\n",
    "df_fake_with_noise.head()"
   ]
  },
  {
   "cell_type": "markdown",
   "id": "021df9e8",
   "metadata": {},
   "source": [
    "## Comparison between CPU data original and augmented"
   ]
  },
  {
   "cell_type": "code",
   "execution_count": 14,
   "id": "7daf879e",
   "metadata": {
    "scrolled": true
   },
   "outputs": [
    {
     "data": {
      "image/png": "[encoded data removed]",
      "text/plain": [
       "<Figure size 640x480 with 1 Axes>"
      ]
     },
     "metadata": {},
     "output_type": "display_data"
    }
   ],
   "source": [
    "plt.scatter(df[df[\"NAME\"]==\"CPU_USE\"][\"VAL\"].index.tolist(),df[df[\"NAME\"]==\"CPU_USE\"][\"VAL\"])\n",
    "plt.title(\"ORIGINAL CPU DATA\")\n",
    "plt.show()"
   ]
  },
  {
   "cell_type": "code",
   "execution_count": 15,
   "id": "5700ab8a",
   "metadata": {},
   "outputs": [
    {
     "data": {
      "text/plain": [
       "count    378.000000\n",
       "mean      69.665522\n",
       "std        5.948844\n",
       "min       43.395200\n",
       "25%       67.193950\n",
       "50%       71.260800\n",
       "75%       73.333050\n",
       "max       77.862600\n",
       "Name: VAL, dtype: float64"
      ]
     },
     "execution_count": 15,
     "metadata": {},
     "output_type": "execute_result"
    }
   ],
   "source": [
    "df[df[\"NAME\"]==\"CPU_USE\"][\"VAL\"].describe()"
   ]
  },
  {
   "cell_type": "markdown",
   "id": "45e33c03",
   "metadata": {},
   "source": [
    "<hr style=\"height:2px;border-width:0;color:black;background-color:black\">"
   ]
  },
  {
   "cell_type": "code",
   "execution_count": 16,
   "id": "f71be644",
   "metadata": {},
   "outputs": [
    {
     "data": {
      "image/png": "[encoded data removed]",
      "text/plain": [
       "<Figure size 640x480 with 1 Axes>"
      ]
     },
     "metadata": {},
     "output_type": "display_data"
    }
   ],
   "source": [
    "plt.scatter(df_fake_with_noise[\"CPUs\"].index.tolist(),df_fake_with_noise[\"CPUs\"])\n",
    "plt.title(\"AUGMENTED CPU DATA\")\n",
    "plt.show()"
   ]
  },
  {
   "cell_type": "code",
   "execution_count": 17,
   "id": "1e1a8be5",
   "metadata": {},
   "outputs": [
    {
     "data": {
      "text/plain": [
       "count    1000.000000\n",
       "mean       80.702125\n",
       "std         1.301913\n",
       "min        72.690517\n",
       "25%        79.848674\n",
       "50%        80.692991\n",
       "75%        81.552675\n",
       "max        86.059499\n",
       "Name: CPUs, dtype: float64"
      ]
     },
     "execution_count": 17,
     "metadata": {},
     "output_type": "execute_result"
    }
   ],
   "source": [
    "df_fake_with_noise[\"CPUs\"].describe()"
   ]
  },
  {
   "cell_type": "code",
   "execution_count": 18,
   "id": "5307bd27",
   "metadata": {},
   "outputs": [
    {
     "data": {
      "text/html": [
       "<div>\n",
       "<style scoped>\n",
       "    .dataframe tbody tr th:only-of-type {\n",
       "        vertical-align: middle;\n",
       "    }\n",
       "\n",
       "    .dataframe tbody tr th {\n",
       "        vertical-align: top;\n",
       "    }\n",
       "\n",
       "    .dataframe thead th {\n",
       "        text-align: right;\n",
       "    }\n",
       "</style>\n",
       "<table border=\"1\" class=\"dataframe\">\n",
       "  <thead>\n",
       "    <tr style=\"text-align: right;\">\n",
       "      <th></th>\n",
       "      <th>CPUs</th>\n",
       "      <th>FAIL_CONFs</th>\n",
       "      <th>FAIL_RTUs</th>\n",
       "      <th>MEM_USEs</th>\n",
       "      <th>PS1_Vs</th>\n",
       "      <th>RTU_HEALTHs</th>\n",
       "      <th>TEMPs</th>\n",
       "    </tr>\n",
       "  </thead>\n",
       "  <tbody>\n",
       "    <tr>\n",
       "      <th>0</th>\n",
       "      <td>81.106627</td>\n",
       "      <td>10.0</td>\n",
       "      <td>10.0</td>\n",
       "      <td>73.139129</td>\n",
       "      <td>15.381080</td>\n",
       "      <td>12.947012</td>\n",
       "      <td>41.461904</td>\n",
       "    </tr>\n",
       "    <tr>\n",
       "      <th>1</th>\n",
       "      <td>80.884144</td>\n",
       "      <td>10.0</td>\n",
       "      <td>10.0</td>\n",
       "      <td>74.804890</td>\n",
       "      <td>15.383394</td>\n",
       "      <td>13.109954</td>\n",
       "      <td>41.550499</td>\n",
       "    </tr>\n",
       "    <tr>\n",
       "      <th>2</th>\n",
       "      <td>80.477068</td>\n",
       "      <td>10.0</td>\n",
       "      <td>10.0</td>\n",
       "      <td>69.260940</td>\n",
       "      <td>15.385508</td>\n",
       "      <td>12.959737</td>\n",
       "      <td>41.435039</td>\n",
       "    </tr>\n",
       "    <tr>\n",
       "      <th>3</th>\n",
       "      <td>83.250543</td>\n",
       "      <td>10.0</td>\n",
       "      <td>10.0</td>\n",
       "      <td>73.975960</td>\n",
       "      <td>15.378207</td>\n",
       "      <td>13.091520</td>\n",
       "      <td>41.516589</td>\n",
       "    </tr>\n",
       "    <tr>\n",
       "      <th>4</th>\n",
       "      <td>79.329734</td>\n",
       "      <td>10.0</td>\n",
       "      <td>10.0</td>\n",
       "      <td>75.208630</td>\n",
       "      <td>15.382084</td>\n",
       "      <td>12.850931</td>\n",
       "      <td>41.521451</td>\n",
       "    </tr>\n",
       "    <tr>\n",
       "      <th>...</th>\n",
       "      <td>...</td>\n",
       "      <td>...</td>\n",
       "      <td>...</td>\n",
       "      <td>...</td>\n",
       "      <td>...</td>\n",
       "      <td>...</td>\n",
       "      <td>...</td>\n",
       "    </tr>\n",
       "    <tr>\n",
       "      <th>995</th>\n",
       "      <td>81.416905</td>\n",
       "      <td>10.0</td>\n",
       "      <td>10.0</td>\n",
       "      <td>74.257119</td>\n",
       "      <td>15.385038</td>\n",
       "      <td>12.969890</td>\n",
       "      <td>41.534182</td>\n",
       "    </tr>\n",
       "    <tr>\n",
       "      <th>996</th>\n",
       "      <td>81.721757</td>\n",
       "      <td>10.0</td>\n",
       "      <td>10.0</td>\n",
       "      <td>65.142077</td>\n",
       "      <td>15.381352</td>\n",
       "      <td>12.943534</td>\n",
       "      <td>41.506199</td>\n",
       "    </tr>\n",
       "    <tr>\n",
       "      <th>997</th>\n",
       "      <td>78.393485</td>\n",
       "      <td>10.0</td>\n",
       "      <td>10.0</td>\n",
       "      <td>69.701312</td>\n",
       "      <td>15.382065</td>\n",
       "      <td>12.927158</td>\n",
       "      <td>41.455619</td>\n",
       "    </tr>\n",
       "    <tr>\n",
       "      <th>998</th>\n",
       "      <td>82.396551</td>\n",
       "      <td>10.0</td>\n",
       "      <td>10.0</td>\n",
       "      <td>72.372716</td>\n",
       "      <td>15.384942</td>\n",
       "      <td>12.946514</td>\n",
       "      <td>41.546065</td>\n",
       "    </tr>\n",
       "    <tr>\n",
       "      <th>999</th>\n",
       "      <td>80.093255</td>\n",
       "      <td>10.0</td>\n",
       "      <td>10.0</td>\n",
       "      <td>69.233257</td>\n",
       "      <td>15.384946</td>\n",
       "      <td>13.079975</td>\n",
       "      <td>41.446572</td>\n",
       "    </tr>\n",
       "  </tbody>\n",
       "</table>\n",
       "<p>1000 rows × 7 columns</p>\n",
       "</div>"
      ],
      "text/plain": [
       "          CPUs  FAIL_CONFs  FAIL_RTUs   MEM_USEs     PS1_Vs  RTU_HEALTHs  \\\n",
       "0    81.106627        10.0       10.0  73.139129  15.381080    12.947012   \n",
       "1    80.884144        10.0       10.0  74.804890  15.383394    13.109954   \n",
       "2    80.477068        10.0       10.0  69.260940  15.385508    12.959737   \n",
       "3    83.250543        10.0       10.0  73.975960  15.378207    13.091520   \n",
       "4    79.329734        10.0       10.0  75.208630  15.382084    12.850931   \n",
       "..         ...         ...        ...        ...        ...          ...   \n",
       "995  81.416905        10.0       10.0  74.257119  15.385038    12.969890   \n",
       "996  81.721757        10.0       10.0  65.142077  15.381352    12.943534   \n",
       "997  78.393485        10.0       10.0  69.701312  15.382065    12.927158   \n",
       "998  82.396551        10.0       10.0  72.372716  15.384942    12.946514   \n",
       "999  80.093255        10.0       10.0  69.233257  15.384946    13.079975   \n",
       "\n",
       "         TEMPs  \n",
       "0    41.461904  \n",
       "1    41.550499  \n",
       "2    41.435039  \n",
       "3    41.516589  \n",
       "4    41.521451  \n",
       "..         ...  \n",
       "995  41.534182  \n",
       "996  41.506199  \n",
       "997  41.455619  \n",
       "998  41.546065  \n",
       "999  41.446572  \n",
       "\n",
       "[1000 rows x 7 columns]"
      ]
     },
     "execution_count": 18,
     "metadata": {},
     "output_type": "execute_result"
    }
   ],
   "source": [
    "df_fake_with_noise"
   ]
  },
  {
   "cell_type": "code",
   "execution_count": 19,
   "id": "3d0e8148",
   "metadata": {},
   "outputs": [
    {
     "data": {
      "text/plain": [
       "(377, 7)"
      ]
     },
     "execution_count": 19,
     "metadata": {},
     "output_type": "execute_result"
    }
   ],
   "source": [
    "df_reshaped.shape"
   ]
  },
  {
   "cell_type": "code",
   "execution_count": 20,
   "id": "6c905fd9",
   "metadata": {},
   "outputs": [
    {
     "data": {
      "text/plain": [
       "(1377, 7)"
      ]
     },
     "execution_count": 20,
     "metadata": {},
     "output_type": "execute_result"
    }
   ],
   "source": [
    "concat_frames = [df_fake_with_noise, df_reshaped]\n",
    "df_real_and_augmented = pd.concat(concat_frames)\n",
    "df_real_and_augmented.shape"
   ]
  },
  {
   "cell_type": "code",
   "execution_count": 22,
   "id": "f3264c4b",
   "metadata": {},
   "outputs": [],
   "source": [
    "df_real_and_augmented.to_pickle(\"./df_real_and_augmented.pkl\")  \n",
    "df_reshaped.to_pickle(\"./last_data.pkl\")  "
   ]
  }
 ],
 "metadata": {
  "kernelspec": {
   "display_name": "Python 3 (ipykernel)",
   "language": "python",
   "name": "python3"
  },
  "language_info": {
   "codemirror_mode": {
    "name": "ipython",
    "version": 3
   },
   "file_extension": ".py",
   "mimetype": "text/x-python",
   "name": "python",
   "nbconvert_exporter": "python",
   "pygments_lexer": "ipython3",
   "version": "3.8.13"
  }
 },
 "nbformat": 4,
 "nbformat_minor": 5
}
