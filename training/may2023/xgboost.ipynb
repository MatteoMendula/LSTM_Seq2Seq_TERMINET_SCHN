{
 "cells": [
  {
   "cell_type": "markdown",
   "id": "cd4975c6-1450-47d2-82e3-be3e52e9daa8",
   "metadata": {},
   "source": [
    "# PREDICTION WITH XGBRegressor"
   ]
  },
  {
   "cell_type": "code",
   "execution_count": 37,
   "id": "26a0e62f-1b93-4f65-9552-3cb506f80891",
   "metadata": {},
   "outputs": [],
   "source": [
    "import numpy as np\n",
    "import matplotlib.pyplot as plt\n",
    "import pandas as pd\n",
    "from math import sqrt\n",
    "from sklearn.metrics import mean_squared_error \n",
    "from xgboost import XGBRegressor\n",
    " "
   ]
  },
  {
   "cell_type": "code",
   "execution_count": 4,
   "id": "90aecba2-ed0d-4ac6-8fe2-5de33a326a22",
   "metadata": {},
   "outputs": [],
   "source": [
    "# read dataset may2023\n",
    "df = pd.read_pickle(\"../../data/20230319_RTU_Dataset_PPC-Lab/combined_may2023.pkl\")  "
   ]
  },
  {
   "cell_type": "code",
   "execution_count": 6,
   "id": "7d3021b1-2695-44a3-9e69-abe8153d8512",
   "metadata": {},
   "outputs": [
    {
     "data": {
      "text/html": [
       "<div>\n",
       "<style scoped>\n",
       "    .dataframe tbody tr th:only-of-type {\n",
       "        vertical-align: middle;\n",
       "    }\n",
       "\n",
       "    .dataframe tbody tr th {\n",
       "        vertical-align: top;\n",
       "    }\n",
       "\n",
       "    .dataframe thead th {\n",
       "        text-align: right;\n",
       "    }\n",
       "</style>\n",
       "<table border=\"1\" class=\"dataframe\">\n",
       "  <thead>\n",
       "    <tr style=\"text-align: right;\">\n",
       "      <th></th>\n",
       "      <th>MEM_USAGE</th>\n",
       "      <th>CPU_USAGE</th>\n",
       "      <th>PS1_V</th>\n",
       "      <th>TEMP</th>\n",
       "    </tr>\n",
       "  </thead>\n",
       "  <tbody>\n",
       "    <tr>\n",
       "      <th>0</th>\n",
       "      <td>35.555417</td>\n",
       "      <td>27.343750</td>\n",
       "      <td>5.435294</td>\n",
       "      <td>28.687</td>\n",
       "    </tr>\n",
       "    <tr>\n",
       "      <th>1</th>\n",
       "      <td>35.555417</td>\n",
       "      <td>6.367041</td>\n",
       "      <td>5.435294</td>\n",
       "      <td>28.687</td>\n",
       "    </tr>\n",
       "    <tr>\n",
       "      <th>2</th>\n",
       "      <td>35.555417</td>\n",
       "      <td>7.142857</td>\n",
       "      <td>5.435294</td>\n",
       "      <td>28.687</td>\n",
       "    </tr>\n",
       "    <tr>\n",
       "      <th>3</th>\n",
       "      <td>35.555417</td>\n",
       "      <td>27.306273</td>\n",
       "      <td>5.435294</td>\n",
       "      <td>28.687</td>\n",
       "    </tr>\n",
       "    <tr>\n",
       "      <th>4</th>\n",
       "      <td>35.555417</td>\n",
       "      <td>5.639098</td>\n",
       "      <td>5.435294</td>\n",
       "      <td>28.687</td>\n",
       "    </tr>\n",
       "    <tr>\n",
       "      <th>...</th>\n",
       "      <td>...</td>\n",
       "      <td>...</td>\n",
       "      <td>...</td>\n",
       "      <td>...</td>\n",
       "    </tr>\n",
       "    <tr>\n",
       "      <th>3798</th>\n",
       "      <td>25.962425</td>\n",
       "      <td>8.396947</td>\n",
       "      <td>5.383530</td>\n",
       "      <td>29.562</td>\n",
       "    </tr>\n",
       "    <tr>\n",
       "      <th>3799</th>\n",
       "      <td>25.962425</td>\n",
       "      <td>6.766917</td>\n",
       "      <td>5.383530</td>\n",
       "      <td>29.562</td>\n",
       "    </tr>\n",
       "    <tr>\n",
       "      <th>3800</th>\n",
       "      <td>25.962425</td>\n",
       "      <td>6.000000</td>\n",
       "      <td>5.383530</td>\n",
       "      <td>29.562</td>\n",
       "    </tr>\n",
       "    <tr>\n",
       "      <th>3801</th>\n",
       "      <td>25.962425</td>\n",
       "      <td>8.045977</td>\n",
       "      <td>5.383530</td>\n",
       "      <td>29.562</td>\n",
       "    </tr>\n",
       "    <tr>\n",
       "      <th>3802</th>\n",
       "      <td>25.962425</td>\n",
       "      <td>13.229572</td>\n",
       "      <td>5.383530</td>\n",
       "      <td>29.562</td>\n",
       "    </tr>\n",
       "  </tbody>\n",
       "</table>\n",
       "<p>3733 rows × 4 columns</p>\n",
       "</div>"
      ],
      "text/plain": [
       "      MEM_USAGE  CPU_USAGE     PS1_V    TEMP\n",
       "0     35.555417  27.343750  5.435294  28.687\n",
       "1     35.555417   6.367041  5.435294  28.687\n",
       "2     35.555417   7.142857  5.435294  28.687\n",
       "3     35.555417  27.306273  5.435294  28.687\n",
       "4     35.555417   5.639098  5.435294  28.687\n",
       "...         ...        ...       ...     ...\n",
       "3798  25.962425   8.396947  5.383530  29.562\n",
       "3799  25.962425   6.766917  5.383530  29.562\n",
       "3800  25.962425   6.000000  5.383530  29.562\n",
       "3801  25.962425   8.045977  5.383530  29.562\n",
       "3802  25.962425  13.229572  5.383530  29.562\n",
       "\n",
       "[3733 rows x 4 columns]"
      ]
     },
     "execution_count": 6,
     "metadata": {},
     "output_type": "execute_result"
    }
   ],
   "source": [
    "df"
   ]
  },
  {
   "cell_type": "code",
   "execution_count": 7,
   "id": "d1fd5928-5d99-4b4b-96ef-336dd599604a",
   "metadata": {},
   "outputs": [],
   "source": [
    "def mean_absolute_percentage_error(y_true, y_pred): \n",
    "    y_true, y_pred = np.array(y_true), np.array(y_pred)\n",
    "    return np.mean(np.abs((y_true - y_pred) / y_true)) * 100"
   ]
  },
  {
   "cell_type": "code",
   "execution_count": 21,
   "id": "7a69f760-0d5a-4880-b891-2d48b4df9717",
   "metadata": {},
   "outputs": [
    {
     "data": {
      "text/plain": [
       "747"
      ]
     },
     "execution_count": 21,
     "metadata": {},
     "output_type": "execute_result"
    }
   ],
   "source": [
    "training_size = int(len(df) * 0.7)\n",
    "validation_size = int(len(df) * 0.8)\n",
    "\n",
    "x_train = [[i] for i in df[\"TEMP\"]][:training_size]\n",
    "y_train = [i for i in df[\"CPU_USAGE\"]][:training_size]\n",
    "\n",
    "x_val = [[i] for i in df[\"TEMP\"]][training_size:validation_size]\n",
    "y_val = [i for i in df[\"CPU_USAGE\"]][training_size:validation_size]\n",
    "\n",
    "x_test = [[i] for i in df[\"TEMP\"]][validation_size:]\n",
    "y_test = [[i] for i in df[\"CPU_USAGE\"]][validation_size:]\n",
    "\n",
    "len(x_test)\n"
   ]
  },
  {
   "cell_type": "code",
   "execution_count": 25,
   "id": "83c5ba61-1780-4e5f-9634-8de025b5d1ce",
   "metadata": {},
   "outputs": [],
   "source": [
    "# Training\n",
    "regressor = XGBRegressor(\n",
    "    max_depth=10,\n",
    "    n_estimators=1000,\n",
    "    min_child_weight=0.5, \n",
    "    colsample_bytree=0.8, \n",
    "    subsample=0.8, \n",
    "    eta=0.1,\n",
    "    seed=42)"
   ]
  },
  {
   "cell_type": "code",
   "execution_count": 26,
   "id": "6d9f660c-9420-4f40-af8a-b304b601929a",
   "metadata": {},
   "outputs": [
    {
     "name": "stdout",
     "output_type": "stream",
     "text": [
      "[0]\tvalidation_0-rmse:16.30337\tvalidation_1-rmse:17.70207\n",
      "[1]\tvalidation_0-rmse:15.42617\tvalidation_1-rmse:16.92710\n",
      "[2]\tvalidation_0-rmse:14.67558\tvalidation_1-rmse:16.25013\n",
      "[3]\tvalidation_0-rmse:14.04135\tvalidation_1-rmse:15.65830\n",
      "[4]\tvalidation_0-rmse:13.51214\tvalidation_1-rmse:15.16591\n",
      "[5]\tvalidation_0-rmse:13.05991\tvalidation_1-rmse:14.77737\n",
      "[6]\tvalidation_0-rmse:12.68998\tvalidation_1-rmse:14.43652\n",
      "[7]\tvalidation_0-rmse:12.37387\tvalidation_1-rmse:14.15391\n",
      "[8]\tvalidation_0-rmse:12.11370\tvalidation_1-rmse:13.91361\n",
      "[9]\tvalidation_0-rmse:11.89484\tvalidation_1-rmse:13.71257\n",
      "[10]\tvalidation_0-rmse:11.71473\tvalidation_1-rmse:13.55021\n",
      "[11]\tvalidation_0-rmse:11.57144\tvalidation_1-rmse:13.41213\n",
      "[12]\tvalidation_0-rmse:11.45046\tvalidation_1-rmse:13.29746\n",
      "[13]\tvalidation_0-rmse:11.35357\tvalidation_1-rmse:13.21299\n",
      "[14]\tvalidation_0-rmse:11.26985\tvalidation_1-rmse:13.12962\n",
      "[15]\tvalidation_0-rmse:11.20182\tvalidation_1-rmse:13.07147\n",
      "[16]\tvalidation_0-rmse:11.15427\tvalidation_1-rmse:13.02788\n",
      "[17]\tvalidation_0-rmse:11.11023\tvalidation_1-rmse:12.98859\n",
      "[18]\tvalidation_0-rmse:11.07286\tvalidation_1-rmse:12.94716\n",
      "[19]\tvalidation_0-rmse:11.04300\tvalidation_1-rmse:12.91648\n",
      "[20]\tvalidation_0-rmse:11.02035\tvalidation_1-rmse:12.89088\n",
      "[21]\tvalidation_0-rmse:11.00103\tvalidation_1-rmse:12.86950\n",
      "[22]\tvalidation_0-rmse:10.98545\tvalidation_1-rmse:12.84599\n",
      "[23]\tvalidation_0-rmse:10.97124\tvalidation_1-rmse:12.83003\n",
      "[24]\tvalidation_0-rmse:10.96151\tvalidation_1-rmse:12.81423\n",
      "[25]\tvalidation_0-rmse:10.95283\tvalidation_1-rmse:12.80021\n",
      "[26]\tvalidation_0-rmse:10.94656\tvalidation_1-rmse:12.79633\n",
      "[27]\tvalidation_0-rmse:10.94175\tvalidation_1-rmse:12.78995\n",
      "[28]\tvalidation_0-rmse:10.93800\tvalidation_1-rmse:12.78480\n",
      "[29]\tvalidation_0-rmse:10.93368\tvalidation_1-rmse:12.77937\n",
      "[30]\tvalidation_0-rmse:10.93125\tvalidation_1-rmse:12.77834\n",
      "[31]\tvalidation_0-rmse:10.92900\tvalidation_1-rmse:12.77148\n",
      "[32]\tvalidation_0-rmse:10.92634\tvalidation_1-rmse:12.77154\n",
      "[33]\tvalidation_0-rmse:10.92398\tvalidation_1-rmse:12.76382\n",
      "[34]\tvalidation_0-rmse:10.92233\tvalidation_1-rmse:12.75696\n",
      "[35]\tvalidation_0-rmse:10.92172\tvalidation_1-rmse:12.75781\n",
      "[36]\tvalidation_0-rmse:10.92032\tvalidation_1-rmse:12.75240\n",
      "[37]\tvalidation_0-rmse:10.91964\tvalidation_1-rmse:12.75079\n",
      "[38]\tvalidation_0-rmse:10.91918\tvalidation_1-rmse:12.74785\n",
      "[39]\tvalidation_0-rmse:10.91868\tvalidation_1-rmse:12.74641\n",
      "[40]\tvalidation_0-rmse:10.91819\tvalidation_1-rmse:12.75077\n",
      "[41]\tvalidation_0-rmse:10.91802\tvalidation_1-rmse:12.74825\n",
      "[42]\tvalidation_0-rmse:10.91801\tvalidation_1-rmse:12.74851\n",
      "[43]\tvalidation_0-rmse:10.91774\tvalidation_1-rmse:12.74517\n",
      "[44]\tvalidation_0-rmse:10.91753\tvalidation_1-rmse:12.74387\n",
      "[45]\tvalidation_0-rmse:10.91741\tvalidation_1-rmse:12.74279\n",
      "[46]\tvalidation_0-rmse:10.91745\tvalidation_1-rmse:12.74146\n",
      "[47]\tvalidation_0-rmse:10.91731\tvalidation_1-rmse:12.74144\n",
      "[48]\tvalidation_0-rmse:10.91747\tvalidation_1-rmse:12.73917\n",
      "[49]\tvalidation_0-rmse:10.91747\tvalidation_1-rmse:12.73924\n",
      "[50]\tvalidation_0-rmse:10.91748\tvalidation_1-rmse:12.73812\n",
      "[51]\tvalidation_0-rmse:10.91737\tvalidation_1-rmse:12.73659\n",
      "[52]\tvalidation_0-rmse:10.91733\tvalidation_1-rmse:12.74073\n",
      "[53]\tvalidation_0-rmse:10.91719\tvalidation_1-rmse:12.74025\n",
      "[54]\tvalidation_0-rmse:10.91722\tvalidation_1-rmse:12.73851\n",
      "[55]\tvalidation_0-rmse:10.91711\tvalidation_1-rmse:12.73988\n",
      "[56]\tvalidation_0-rmse:10.91704\tvalidation_1-rmse:12.73897\n",
      "[57]\tvalidation_0-rmse:10.91698\tvalidation_1-rmse:12.74090\n",
      "[58]\tvalidation_0-rmse:10.91689\tvalidation_1-rmse:12.73768\n",
      "[59]\tvalidation_0-rmse:10.91683\tvalidation_1-rmse:12.74057\n",
      "[60]\tvalidation_0-rmse:10.91696\tvalidation_1-rmse:12.73805\n",
      "[61]\tvalidation_0-rmse:10.91692\tvalidation_1-rmse:12.73692\n",
      "[62]\tvalidation_0-rmse:10.91699\tvalidation_1-rmse:12.73839\n",
      "[63]\tvalidation_0-rmse:10.91689\tvalidation_1-rmse:12.73574\n",
      "[64]\tvalidation_0-rmse:10.91687\tvalidation_1-rmse:12.73674\n",
      "[65]\tvalidation_0-rmse:10.91679\tvalidation_1-rmse:12.73929\n",
      "[66]\tvalidation_0-rmse:10.91679\tvalidation_1-rmse:12.73919\n",
      "[67]\tvalidation_0-rmse:10.91675\tvalidation_1-rmse:12.73780\n",
      "[68]\tvalidation_0-rmse:10.91675\tvalidation_1-rmse:12.73701\n",
      "[69]\tvalidation_0-rmse:10.91681\tvalidation_1-rmse:12.73766\n",
      "[70]\tvalidation_0-rmse:10.91678\tvalidation_1-rmse:12.73676\n",
      "[71]\tvalidation_0-rmse:10.91677\tvalidation_1-rmse:12.73500\n",
      "[72]\tvalidation_0-rmse:10.91678\tvalidation_1-rmse:12.73236\n",
      "[73]\tvalidation_0-rmse:10.91677\tvalidation_1-rmse:12.73301\n",
      "[74]\tvalidation_0-rmse:10.91681\tvalidation_1-rmse:12.73325\n",
      "[75]\tvalidation_0-rmse:10.91691\tvalidation_1-rmse:12.73056\n",
      "[76]\tvalidation_0-rmse:10.91689\tvalidation_1-rmse:12.72969\n",
      "[77]\tvalidation_0-rmse:10.91688\tvalidation_1-rmse:12.73411\n",
      "[78]\tvalidation_0-rmse:10.91686\tvalidation_1-rmse:12.73107\n",
      "[79]\tvalidation_0-rmse:10.91679\tvalidation_1-rmse:12.73619\n",
      "[80]\tvalidation_0-rmse:10.91677\tvalidation_1-rmse:12.73680\n",
      "[81]\tvalidation_0-rmse:10.91675\tvalidation_1-rmse:12.73557\n",
      "[82]\tvalidation_0-rmse:10.91678\tvalidation_1-rmse:12.73518\n",
      "[83]\tvalidation_0-rmse:10.91678\tvalidation_1-rmse:12.73343\n",
      "[84]\tvalidation_0-rmse:10.91676\tvalidation_1-rmse:12.73407\n",
      "[85]\tvalidation_0-rmse:10.91677\tvalidation_1-rmse:12.73748\n",
      "[86]\tvalidation_0-rmse:10.91681\tvalidation_1-rmse:12.73344\n",
      "[87]\tvalidation_0-rmse:10.91682\tvalidation_1-rmse:12.73203\n",
      "[88]\tvalidation_0-rmse:10.91687\tvalidation_1-rmse:12.73322\n",
      "[89]\tvalidation_0-rmse:10.91678\tvalidation_1-rmse:12.73616\n",
      "[90]\tvalidation_0-rmse:10.91678\tvalidation_1-rmse:12.73527\n",
      "[91]\tvalidation_0-rmse:10.91678\tvalidation_1-rmse:12.73812\n",
      "[92]\tvalidation_0-rmse:10.91679\tvalidation_1-rmse:12.73472\n",
      "[93]\tvalidation_0-rmse:10.91679\tvalidation_1-rmse:12.73241\n",
      "[94]\tvalidation_0-rmse:10.91679\tvalidation_1-rmse:12.73683\n",
      "[95]\tvalidation_0-rmse:10.91688\tvalidation_1-rmse:12.73931\n",
      "[96]\tvalidation_0-rmse:10.91691\tvalidation_1-rmse:12.73699\n"
     ]
    },
    {
     "data": {
      "text/html": [
       "<style>#sk-container-id-2 {color: black;background-color: white;}#sk-container-id-2 pre{padding: 0;}#sk-container-id-2 div.sk-toggleable {background-color: white;}#sk-container-id-2 label.sk-toggleable__label {cursor: pointer;display: block;width: 100%;margin-bottom: 0;padding: 0.3em;box-sizing: border-box;text-align: center;}#sk-container-id-2 label.sk-toggleable__label-arrow:before {content: \"▸\";float: left;margin-right: 0.25em;color: #696969;}#sk-container-id-2 label.sk-toggleable__label-arrow:hover:before {color: black;}#sk-container-id-2 div.sk-estimator:hover label.sk-toggleable__label-arrow:before {color: black;}#sk-container-id-2 div.sk-toggleable__content {max-height: 0;max-width: 0;overflow: hidden;text-align: left;background-color: #f0f8ff;}#sk-container-id-2 div.sk-toggleable__content pre {margin: 0.2em;color: black;border-radius: 0.25em;background-color: #f0f8ff;}#sk-container-id-2 input.sk-toggleable__control:checked~div.sk-toggleable__content {max-height: 200px;max-width: 100%;overflow: auto;}#sk-container-id-2 input.sk-toggleable__control:checked~label.sk-toggleable__label-arrow:before {content: \"▾\";}#sk-container-id-2 div.sk-estimator input.sk-toggleable__control:checked~label.sk-toggleable__label {background-color: #d4ebff;}#sk-container-id-2 div.sk-label input.sk-toggleable__control:checked~label.sk-toggleable__label {background-color: #d4ebff;}#sk-container-id-2 input.sk-hidden--visually {border: 0;clip: rect(1px 1px 1px 1px);clip: rect(1px, 1px, 1px, 1px);height: 1px;margin: -1px;overflow: hidden;padding: 0;position: absolute;width: 1px;}#sk-container-id-2 div.sk-estimator {font-family: monospace;background-color: #f0f8ff;border: 1px dotted black;border-radius: 0.25em;box-sizing: border-box;margin-bottom: 0.5em;}#sk-container-id-2 div.sk-estimator:hover {background-color: #d4ebff;}#sk-container-id-2 div.sk-parallel-item::after {content: \"\";width: 100%;border-bottom: 1px solid gray;flex-grow: 1;}#sk-container-id-2 div.sk-label:hover label.sk-toggleable__label {background-color: #d4ebff;}#sk-container-id-2 div.sk-serial::before {content: \"\";position: absolute;border-left: 1px solid gray;box-sizing: border-box;top: 0;bottom: 0;left: 50%;z-index: 0;}#sk-container-id-2 div.sk-serial {display: flex;flex-direction: column;align-items: center;background-color: white;padding-right: 0.2em;padding-left: 0.2em;position: relative;}#sk-container-id-2 div.sk-item {position: relative;z-index: 1;}#sk-container-id-2 div.sk-parallel {display: flex;align-items: stretch;justify-content: center;background-color: white;position: relative;}#sk-container-id-2 div.sk-item::before, #sk-container-id-2 div.sk-parallel-item::before {content: \"\";position: absolute;border-left: 1px solid gray;box-sizing: border-box;top: 0;bottom: 0;left: 50%;z-index: -1;}#sk-container-id-2 div.sk-parallel-item {display: flex;flex-direction: column;z-index: 1;position: relative;background-color: white;}#sk-container-id-2 div.sk-parallel-item:first-child::after {align-self: flex-end;width: 50%;}#sk-container-id-2 div.sk-parallel-item:last-child::after {align-self: flex-start;width: 50%;}#sk-container-id-2 div.sk-parallel-item:only-child::after {width: 0;}#sk-container-id-2 div.sk-dashed-wrapped {border: 1px dashed gray;margin: 0 0.4em 0.5em 0.4em;box-sizing: border-box;padding-bottom: 0.4em;background-color: white;}#sk-container-id-2 div.sk-label label {font-family: monospace;font-weight: bold;display: inline-block;line-height: 1.2em;}#sk-container-id-2 div.sk-label-container {text-align: center;}#sk-container-id-2 div.sk-container {/* jupyter's `normalize.less` sets `[hidden] { display: none; }` but bootstrap.min.css set `[hidden] { display: none !important; }` so we also need the `!important` here to be able to override the default hidden behavior on the sphinx rendered scikit-learn.org. See: https://github.com/scikit-learn/scikit-learn/issues/21755 */display: inline-block !important;position: relative;}#sk-container-id-2 div.sk-text-repr-fallback {display: none;}</style><div id=\"sk-container-id-2\" class=\"sk-top-container\"><div class=\"sk-text-repr-fallback\"><pre>XGBRegressor(base_score=None, booster=None, callbacks=None,\n",
       "             colsample_bylevel=None, colsample_bynode=None,\n",
       "             colsample_bytree=0.8, early_stopping_rounds=None,\n",
       "             enable_categorical=False, eta=0.1, eval_metric=None,\n",
       "             feature_types=None, gamma=None, gpu_id=None, grow_policy=None,\n",
       "             importance_type=None, interaction_constraints=None,\n",
       "             learning_rate=None, max_bin=None, max_cat_threshold=None,\n",
       "             max_cat_to_onehot=None, max_delta_step=None, max_depth=10,\n",
       "             max_leaves=None, min_child_weight=0.5, missing=nan,\n",
       "             monotone_constraints=None, n_estimators=1000, n_jobs=None,\n",
       "             num_parallel_tree=None, predictor=None, ...)</pre><b>In a Jupyter environment, please rerun this cell to show the HTML representation or trust the notebook. <br />On GitHub, the HTML representation is unable to render, please try loading this page with nbviewer.org.</b></div><div class=\"sk-container\" hidden><div class=\"sk-item\"><div class=\"sk-estimator sk-toggleable\"><input class=\"sk-toggleable__control sk-hidden--visually\" id=\"sk-estimator-id-2\" type=\"checkbox\" checked><label for=\"sk-estimator-id-2\" class=\"sk-toggleable__label sk-toggleable__label-arrow\">XGBRegressor</label><div class=\"sk-toggleable__content\"><pre>XGBRegressor(base_score=None, booster=None, callbacks=None,\n",
       "             colsample_bylevel=None, colsample_bynode=None,\n",
       "             colsample_bytree=0.8, early_stopping_rounds=None,\n",
       "             enable_categorical=False, eta=0.1, eval_metric=None,\n",
       "             feature_types=None, gamma=None, gpu_id=None, grow_policy=None,\n",
       "             importance_type=None, interaction_constraints=None,\n",
       "             learning_rate=None, max_bin=None, max_cat_threshold=None,\n",
       "             max_cat_to_onehot=None, max_delta_step=None, max_depth=10,\n",
       "             max_leaves=None, min_child_weight=0.5, missing=nan,\n",
       "             monotone_constraints=None, n_estimators=1000, n_jobs=None,\n",
       "             num_parallel_tree=None, predictor=None, ...)</pre></div></div></div></div></div>"
      ],
      "text/plain": [
       "XGBRegressor(base_score=None, booster=None, callbacks=None,\n",
       "             colsample_bylevel=None, colsample_bynode=None,\n",
       "             colsample_bytree=0.8, early_stopping_rounds=None,\n",
       "             enable_categorical=False, eta=0.1, eval_metric=None,\n",
       "             feature_types=None, gamma=None, gpu_id=None, grow_policy=None,\n",
       "             importance_type=None, interaction_constraints=None,\n",
       "             learning_rate=None, max_bin=None, max_cat_threshold=None,\n",
       "             max_cat_to_onehot=None, max_delta_step=None, max_depth=10,\n",
       "             max_leaves=None, min_child_weight=0.5, missing=nan,\n",
       "             monotone_constraints=None, n_estimators=1000, n_jobs=None,\n",
       "             num_parallel_tree=None, predictor=None, ...)"
      ]
     },
     "execution_count": 26,
     "metadata": {},
     "output_type": "execute_result"
    }
   ],
   "source": [
    "regressor.fit(\n",
    "    x_train, \n",
    "    y_train, \n",
    "    eval_metric=\"rmse\", \n",
    "    eval_set=[(x_train, y_train), (x_val, y_val)], \n",
    "    verbose=True, \n",
    "    early_stopping_rounds = 20)"
   ]
  },
  {
   "cell_type": "code",
   "execution_count": 28,
   "id": "3808d219-14b3-48f9-aeb8-3977f57aede8",
   "metadata": {},
   "outputs": [],
   "source": [
    "Y_pred = regressor.predict(x_test)"
   ]
  },
  {
   "cell_type": "code",
   "execution_count": 29,
   "id": "a4684a79-d245-4eca-991a-381d97a8590a",
   "metadata": {},
   "outputs": [
    {
     "name": "stdout",
     "output_type": "stream",
     "text": [
      "66.18822223099487\n"
     ]
    }
   ],
   "source": [
    "print(mean_absolute_percentage_error(list(Y_pred), y_test))"
   ]
  },
  {
   "cell_type": "code",
   "execution_count": 30,
   "id": "e5c3b50a-f8b7-4dee-8e27-89a976c0f42e",
   "metadata": {},
   "outputs": [
    {
     "data": {
      "image/png": "[encoded data removed]",
      "text/plain": [
       "<Figure size 640x480 with 1 Axes>"
      ]
     },
     "metadata": {},
     "output_type": "display_data"
    }
   ],
   "source": [
    "import matplotlib.pyplot as plt\n",
    "import numpy as np\n",
    "\n",
    "x = range(len(list(Y_pred)))\n",
    "y_pred = list(Y_pred)\n",
    "y_actual = y_test\n",
    "\n",
    "plt.plot(x, y_pred, label=\"prediction\")\n",
    "plt.plot(x, y_actual, label=\"actual\")\n",
    "plt.legend()\n",
    "plt.show()"
   ]
  },
  {
   "cell_type": "code",
   "execution_count": 31,
   "id": "e11b2004-7ccb-418b-a481-274213abfcc2",
   "metadata": {},
   "outputs": [],
   "source": [
    "training_size = int(len(df) * 0.7)\n",
    "validation_size = int(len(df) * 0.8)\n",
    "\n",
    "x_train = [[i] for i in df[\"CPU_USAGE\"]][:training_size]\n",
    "y_train = [i for i in df[\"TEMP\"]][:training_size]\n",
    "\n",
    "x_val = [[i] for i in df[\"CPU_USAGE\"]][training_size:validation_size]\n",
    "y_val = [i for i in df[\"TEMP\"]][training_size:validation_size]\n",
    "\n",
    "x_test = [[i] for i in df[\"CPU_USAGE\"]][validation_size:]\n",
    "y_test = [[i] for i in df[\"TEMP\"]][validation_size:]"
   ]
  },
  {
   "cell_type": "code",
   "execution_count": 32,
   "id": "de94a84d-acda-4e57-83e2-5db54f05e9c2",
   "metadata": {},
   "outputs": [
    {
     "name": "stdout",
     "output_type": "stream",
     "text": [
      "[0]\tvalidation_0-rmse:22.08233\tvalidation_1-rmse:24.63473\n",
      "[1]\tvalidation_0-rmse:19.92003\tvalidation_1-rmse:22.48453\n",
      "[2]\tvalidation_0-rmse:17.97698\tvalidation_1-rmse:20.55397\n",
      "[3]\tvalidation_0-rmse:16.23205\tvalidation_1-rmse:18.82178\n",
      "[4]\tvalidation_0-rmse:14.66778\tvalidation_1-rmse:17.27032\n",
      "[5]\tvalidation_0-rmse:13.26756\tvalidation_1-rmse:15.88274\n",
      "[6]\tvalidation_0-rmse:12.01574\tvalidation_1-rmse:14.65642\n",
      "[7]\tvalidation_0-rmse:10.89029\tvalidation_1-rmse:13.55449\n",
      "[8]\tvalidation_0-rmse:9.88926\tvalidation_1-rmse:12.56441\n",
      "[9]\tvalidation_0-rmse:8.99528\tvalidation_1-rmse:11.69038\n",
      "[10]\tvalidation_0-rmse:8.20079\tvalidation_1-rmse:10.91656\n",
      "[11]\tvalidation_0-rmse:7.49468\tvalidation_1-rmse:10.21608\n",
      "[12]\tvalidation_0-rmse:6.87242\tvalidation_1-rmse:9.60787\n",
      "[13]\tvalidation_0-rmse:6.32195\tvalidation_1-rmse:9.06987\n",
      "[14]\tvalidation_0-rmse:5.83451\tvalidation_1-rmse:8.59007\n",
      "[15]\tvalidation_0-rmse:5.40613\tvalidation_1-rmse:8.15505\n",
      "[16]\tvalidation_0-rmse:5.03438\tvalidation_1-rmse:7.77932\n",
      "[17]\tvalidation_0-rmse:4.70938\tvalidation_1-rmse:7.44948\n",
      "[18]\tvalidation_0-rmse:4.42777\tvalidation_1-rmse:7.17368\n",
      "[19]\tvalidation_0-rmse:4.17682\tvalidation_1-rmse:6.91071\n",
      "[20]\tvalidation_0-rmse:3.96330\tvalidation_1-rmse:6.68455\n",
      "[21]\tvalidation_0-rmse:3.78039\tvalidation_1-rmse:6.48317\n",
      "[22]\tvalidation_0-rmse:3.62120\tvalidation_1-rmse:6.31089\n",
      "[23]\tvalidation_0-rmse:3.48424\tvalidation_1-rmse:6.15673\n",
      "[24]\tvalidation_0-rmse:3.36571\tvalidation_1-rmse:6.02343\n",
      "[25]\tvalidation_0-rmse:3.27064\tvalidation_1-rmse:5.91111\n",
      "[26]\tvalidation_0-rmse:3.18804\tvalidation_1-rmse:5.80869\n",
      "[27]\tvalidation_0-rmse:3.11149\tvalidation_1-rmse:5.71094\n",
      "[28]\tvalidation_0-rmse:3.05106\tvalidation_1-rmse:5.63712\n",
      "[29]\tvalidation_0-rmse:2.99961\tvalidation_1-rmse:5.56599\n",
      "[30]\tvalidation_0-rmse:2.95543\tvalidation_1-rmse:5.49878\n",
      "[31]\tvalidation_0-rmse:2.91971\tvalidation_1-rmse:5.44001\n",
      "[32]\tvalidation_0-rmse:2.88715\tvalidation_1-rmse:5.39038\n",
      "[33]\tvalidation_0-rmse:2.86409\tvalidation_1-rmse:5.34742\n",
      "[34]\tvalidation_0-rmse:2.84479\tvalidation_1-rmse:5.30557\n",
      "[35]\tvalidation_0-rmse:2.82183\tvalidation_1-rmse:5.27172\n",
      "[36]\tvalidation_0-rmse:2.80003\tvalidation_1-rmse:5.23819\n",
      "[37]\tvalidation_0-rmse:2.78484\tvalidation_1-rmse:5.21284\n",
      "[38]\tvalidation_0-rmse:2.77332\tvalidation_1-rmse:5.19096\n",
      "[39]\tvalidation_0-rmse:2.75964\tvalidation_1-rmse:5.16544\n",
      "[40]\tvalidation_0-rmse:2.75338\tvalidation_1-rmse:5.14638\n",
      "[41]\tvalidation_0-rmse:2.74072\tvalidation_1-rmse:5.13245\n",
      "[42]\tvalidation_0-rmse:2.73115\tvalidation_1-rmse:5.11771\n",
      "[43]\tvalidation_0-rmse:2.72124\tvalidation_1-rmse:5.10340\n",
      "[44]\tvalidation_0-rmse:2.71210\tvalidation_1-rmse:5.09186\n",
      "[45]\tvalidation_0-rmse:2.69885\tvalidation_1-rmse:5.08109\n",
      "[46]\tvalidation_0-rmse:2.69026\tvalidation_1-rmse:5.07445\n",
      "[47]\tvalidation_0-rmse:2.68445\tvalidation_1-rmse:5.06615\n",
      "[48]\tvalidation_0-rmse:2.67685\tvalidation_1-rmse:5.05828\n",
      "[49]\tvalidation_0-rmse:2.66827\tvalidation_1-rmse:5.05370\n",
      "[50]\tvalidation_0-rmse:2.66199\tvalidation_1-rmse:5.04774\n",
      "[51]\tvalidation_0-rmse:2.65569\tvalidation_1-rmse:5.03908\n",
      "[52]\tvalidation_0-rmse:2.64803\tvalidation_1-rmse:5.03312\n",
      "[53]\tvalidation_0-rmse:2.64502\tvalidation_1-rmse:5.02758\n",
      "[54]\tvalidation_0-rmse:2.64103\tvalidation_1-rmse:5.02359\n",
      "[55]\tvalidation_0-rmse:2.63627\tvalidation_1-rmse:5.01574\n",
      "[56]\tvalidation_0-rmse:2.62972\tvalidation_1-rmse:5.01291\n",
      "[57]\tvalidation_0-rmse:2.62640\tvalidation_1-rmse:5.01048\n",
      "[58]\tvalidation_0-rmse:2.62098\tvalidation_1-rmse:5.00502\n",
      "[59]\tvalidation_0-rmse:2.61603\tvalidation_1-rmse:5.00120\n",
      "[60]\tvalidation_0-rmse:2.61217\tvalidation_1-rmse:5.00162\n",
      "[61]\tvalidation_0-rmse:2.60868\tvalidation_1-rmse:4.99736\n",
      "[62]\tvalidation_0-rmse:2.60524\tvalidation_1-rmse:5.00019\n",
      "[63]\tvalidation_0-rmse:2.60108\tvalidation_1-rmse:5.00392\n",
      "[64]\tvalidation_0-rmse:2.59663\tvalidation_1-rmse:5.00211\n",
      "[65]\tvalidation_0-rmse:2.59305\tvalidation_1-rmse:5.00317\n",
      "[66]\tvalidation_0-rmse:2.58995\tvalidation_1-rmse:5.00208\n",
      "[67]\tvalidation_0-rmse:2.58555\tvalidation_1-rmse:5.00053\n",
      "[68]\tvalidation_0-rmse:2.57838\tvalidation_1-rmse:5.00326\n",
      "[69]\tvalidation_0-rmse:2.57600\tvalidation_1-rmse:5.00455\n",
      "[70]\tvalidation_0-rmse:2.57357\tvalidation_1-rmse:5.00432\n",
      "[71]\tvalidation_0-rmse:2.57158\tvalidation_1-rmse:5.00741\n",
      "[72]\tvalidation_0-rmse:2.57055\tvalidation_1-rmse:5.00902\n",
      "[73]\tvalidation_0-rmse:2.56886\tvalidation_1-rmse:5.00727\n",
      "[74]\tvalidation_0-rmse:2.56433\tvalidation_1-rmse:5.00412\n",
      "[75]\tvalidation_0-rmse:2.56183\tvalidation_1-rmse:5.00716\n",
      "[76]\tvalidation_0-rmse:2.55721\tvalidation_1-rmse:5.00911\n",
      "[77]\tvalidation_0-rmse:2.55519\tvalidation_1-rmse:5.01089\n",
      "[78]\tvalidation_0-rmse:2.55271\tvalidation_1-rmse:5.01084\n",
      "[79]\tvalidation_0-rmse:2.55161\tvalidation_1-rmse:5.01306\n",
      "[80]\tvalidation_0-rmse:2.54706\tvalidation_1-rmse:5.01290\n",
      "[81]\tvalidation_0-rmse:2.54417\tvalidation_1-rmse:5.01236\n"
     ]
    },
    {
     "data": {
      "text/html": [
       "<style>#sk-container-id-3 {color: black;background-color: white;}#sk-container-id-3 pre{padding: 0;}#sk-container-id-3 div.sk-toggleable {background-color: white;}#sk-container-id-3 label.sk-toggleable__label {cursor: pointer;display: block;width: 100%;margin-bottom: 0;padding: 0.3em;box-sizing: border-box;text-align: center;}#sk-container-id-3 label.sk-toggleable__label-arrow:before {content: \"▸\";float: left;margin-right: 0.25em;color: #696969;}#sk-container-id-3 label.sk-toggleable__label-arrow:hover:before {color: black;}#sk-container-id-3 div.sk-estimator:hover label.sk-toggleable__label-arrow:before {color: black;}#sk-container-id-3 div.sk-toggleable__content {max-height: 0;max-width: 0;overflow: hidden;text-align: left;background-color: #f0f8ff;}#sk-container-id-3 div.sk-toggleable__content pre {margin: 0.2em;color: black;border-radius: 0.25em;background-color: #f0f8ff;}#sk-container-id-3 input.sk-toggleable__control:checked~div.sk-toggleable__content {max-height: 200px;max-width: 100%;overflow: auto;}#sk-container-id-3 input.sk-toggleable__control:checked~label.sk-toggleable__label-arrow:before {content: \"▾\";}#sk-container-id-3 div.sk-estimator input.sk-toggleable__control:checked~label.sk-toggleable__label {background-color: #d4ebff;}#sk-container-id-3 div.sk-label input.sk-toggleable__control:checked~label.sk-toggleable__label {background-color: #d4ebff;}#sk-container-id-3 input.sk-hidden--visually {border: 0;clip: rect(1px 1px 1px 1px);clip: rect(1px, 1px, 1px, 1px);height: 1px;margin: -1px;overflow: hidden;padding: 0;position: absolute;width: 1px;}#sk-container-id-3 div.sk-estimator {font-family: monospace;background-color: #f0f8ff;border: 1px dotted black;border-radius: 0.25em;box-sizing: border-box;margin-bottom: 0.5em;}#sk-container-id-3 div.sk-estimator:hover {background-color: #d4ebff;}#sk-container-id-3 div.sk-parallel-item::after {content: \"\";width: 100%;border-bottom: 1px solid gray;flex-grow: 1;}#sk-container-id-3 div.sk-label:hover label.sk-toggleable__label {background-color: #d4ebff;}#sk-container-id-3 div.sk-serial::before {content: \"\";position: absolute;border-left: 1px solid gray;box-sizing: border-box;top: 0;bottom: 0;left: 50%;z-index: 0;}#sk-container-id-3 div.sk-serial {display: flex;flex-direction: column;align-items: center;background-color: white;padding-right: 0.2em;padding-left: 0.2em;position: relative;}#sk-container-id-3 div.sk-item {position: relative;z-index: 1;}#sk-container-id-3 div.sk-parallel {display: flex;align-items: stretch;justify-content: center;background-color: white;position: relative;}#sk-container-id-3 div.sk-item::before, #sk-container-id-3 div.sk-parallel-item::before {content: \"\";position: absolute;border-left: 1px solid gray;box-sizing: border-box;top: 0;bottom: 0;left: 50%;z-index: -1;}#sk-container-id-3 div.sk-parallel-item {display: flex;flex-direction: column;z-index: 1;position: relative;background-color: white;}#sk-container-id-3 div.sk-parallel-item:first-child::after {align-self: flex-end;width: 50%;}#sk-container-id-3 div.sk-parallel-item:last-child::after {align-self: flex-start;width: 50%;}#sk-container-id-3 div.sk-parallel-item:only-child::after {width: 0;}#sk-container-id-3 div.sk-dashed-wrapped {border: 1px dashed gray;margin: 0 0.4em 0.5em 0.4em;box-sizing: border-box;padding-bottom: 0.4em;background-color: white;}#sk-container-id-3 div.sk-label label {font-family: monospace;font-weight: bold;display: inline-block;line-height: 1.2em;}#sk-container-id-3 div.sk-label-container {text-align: center;}#sk-container-id-3 div.sk-container {/* jupyter's `normalize.less` sets `[hidden] { display: none; }` but bootstrap.min.css set `[hidden] { display: none !important; }` so we also need the `!important` here to be able to override the default hidden behavior on the sphinx rendered scikit-learn.org. See: https://github.com/scikit-learn/scikit-learn/issues/21755 */display: inline-block !important;position: relative;}#sk-container-id-3 div.sk-text-repr-fallback {display: none;}</style><div id=\"sk-container-id-3\" class=\"sk-top-container\"><div class=\"sk-text-repr-fallback\"><pre>XGBRegressor(base_score=None, booster=None, callbacks=None,\n",
       "             colsample_bylevel=None, colsample_bynode=None,\n",
       "             colsample_bytree=0.8, early_stopping_rounds=None,\n",
       "             enable_categorical=False, eta=0.1, eval_metric=None,\n",
       "             feature_types=None, gamma=None, gpu_id=None, grow_policy=None,\n",
       "             importance_type=None, interaction_constraints=None,\n",
       "             learning_rate=None, max_bin=None, max_cat_threshold=None,\n",
       "             max_cat_to_onehot=None, max_delta_step=None, max_depth=10,\n",
       "             max_leaves=None, min_child_weight=0.5, missing=nan,\n",
       "             monotone_constraints=None, n_estimators=1000, n_jobs=None,\n",
       "             num_parallel_tree=None, predictor=None, ...)</pre><b>In a Jupyter environment, please rerun this cell to show the HTML representation or trust the notebook. <br />On GitHub, the HTML representation is unable to render, please try loading this page with nbviewer.org.</b></div><div class=\"sk-container\" hidden><div class=\"sk-item\"><div class=\"sk-estimator sk-toggleable\"><input class=\"sk-toggleable__control sk-hidden--visually\" id=\"sk-estimator-id-3\" type=\"checkbox\" checked><label for=\"sk-estimator-id-3\" class=\"sk-toggleable__label sk-toggleable__label-arrow\">XGBRegressor</label><div class=\"sk-toggleable__content\"><pre>XGBRegressor(base_score=None, booster=None, callbacks=None,\n",
       "             colsample_bylevel=None, colsample_bynode=None,\n",
       "             colsample_bytree=0.8, early_stopping_rounds=None,\n",
       "             enable_categorical=False, eta=0.1, eval_metric=None,\n",
       "             feature_types=None, gamma=None, gpu_id=None, grow_policy=None,\n",
       "             importance_type=None, interaction_constraints=None,\n",
       "             learning_rate=None, max_bin=None, max_cat_threshold=None,\n",
       "             max_cat_to_onehot=None, max_delta_step=None, max_depth=10,\n",
       "             max_leaves=None, min_child_weight=0.5, missing=nan,\n",
       "             monotone_constraints=None, n_estimators=1000, n_jobs=None,\n",
       "             num_parallel_tree=None, predictor=None, ...)</pre></div></div></div></div></div>"
      ],
      "text/plain": [
       "XGBRegressor(base_score=None, booster=None, callbacks=None,\n",
       "             colsample_bylevel=None, colsample_bynode=None,\n",
       "             colsample_bytree=0.8, early_stopping_rounds=None,\n",
       "             enable_categorical=False, eta=0.1, eval_metric=None,\n",
       "             feature_types=None, gamma=None, gpu_id=None, grow_policy=None,\n",
       "             importance_type=None, interaction_constraints=None,\n",
       "             learning_rate=None, max_bin=None, max_cat_threshold=None,\n",
       "             max_cat_to_onehot=None, max_delta_step=None, max_depth=10,\n",
       "             max_leaves=None, min_child_weight=0.5, missing=nan,\n",
       "             monotone_constraints=None, n_estimators=1000, n_jobs=None,\n",
       "             num_parallel_tree=None, predictor=None, ...)"
      ]
     },
     "execution_count": 32,
     "metadata": {},
     "output_type": "execute_result"
    }
   ],
   "source": [
    "# Training\n",
    "regressor = XGBRegressor(\n",
    "    max_depth=10,\n",
    "    n_estimators=1000,\n",
    "    min_child_weight=0.5, \n",
    "    colsample_bytree=0.8, \n",
    "    subsample=0.8, \n",
    "    eta=0.1,\n",
    "    seed=42)\n",
    "\n",
    "regressor.fit(\n",
    "    x_train, \n",
    "    y_train, \n",
    "    eval_metric=\"rmse\", \n",
    "    eval_set=[(x_train, y_train), (x_val, y_val)], \n",
    "    verbose=True, \n",
    "    early_stopping_rounds = 20)"
   ]
  },
  {
   "cell_type": "code",
   "execution_count": 33,
   "id": "1b7478ad-94f3-469d-b357-0eb004a8f1cf",
   "metadata": {},
   "outputs": [],
   "source": [
    "Y_pred = regressor.predict(x_test)"
   ]
  },
  {
   "cell_type": "code",
   "execution_count": 34,
   "id": "f025c100-cf89-4dfb-a638-fc690adff33a",
   "metadata": {},
   "outputs": [
    {
     "name": "stdout",
     "output_type": "stream",
     "text": [
      "19.84582274749494\n"
     ]
    }
   ],
   "source": [
    "print(mean_absolute_percentage_error(Y_pred, y_test))"
   ]
  },
  {
   "cell_type": "code",
   "execution_count": 35,
   "id": "6b3ac877-094e-4324-9740-627f6a2bcc16",
   "metadata": {},
   "outputs": [
    {
     "data": {
      "image/png": "[encoded data removed]",
      "text/plain": [
       "<Figure size 640x480 with 1 Axes>"
      ]
     },
     "metadata": {},
     "output_type": "display_data"
    }
   ],
   "source": [
    "import matplotlib.pyplot as plt\n",
    "import numpy as np\n",
    "\n",
    "x = range(len(list(Y_pred)))\n",
    "y_pred = list(Y_pred)\n",
    "y_actual = y_test\n",
    "\n",
    "plt.plot(x, y_pred)\n",
    "plt.plot(x, y_actual)\n",
    "plt.show()"
   ]
  },
  {
   "cell_type": "code",
   "execution_count": 36,
   "id": "8b4fad06-3360-452d-8cef-cc47d17a7d89",
   "metadata": {},
   "outputs": [
    {
     "data": {
      "image/png": "[encoded data removed]",
      "text/plain": [
       "<Figure size 640x480 with 1 Axes>"
      ]
     },
     "metadata": {},
     "output_type": "display_data"
    }
   ],
   "source": [
    "x = range(len(list(y_train)))\n",
    "y_pred = list(y_train)\n",
    "\n",
    "plt.plot(x, y_pred)\n",
    "plt.show()"
   ]
  }
 ],
 "metadata": {
  "kernelspec": {
   "display_name": "terminet",
   "language": "python",
   "name": "terminet"
  },
  "language_info": {
   "codemirror_mode": {
    "name": "ipython",
    "version": 3
   },
   "file_extension": ".py",
   "mimetype": "text/x-python",
   "name": "python",
   "nbconvert_exporter": "python",
   "pygments_lexer": "ipython3",
   "version": "3.11.3"
  }
 },
 "nbformat": 4,
 "nbformat_minor": 5
}
